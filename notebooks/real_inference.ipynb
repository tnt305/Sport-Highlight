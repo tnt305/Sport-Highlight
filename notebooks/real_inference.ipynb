{
 "cells": [
  {
   "cell_type": "code",
   "execution_count": 4,
   "metadata": {},
   "outputs": [],
   "source": [
    "import torch\n",
    "import os\n",
    "import numpy \n",
    "import pandas as pd\n",
    "from PIL import Image \n",
    "from transformers import AutoImageProcessor\n",
    "from transformers import TimesformerModel, logging\n",
    "from src.models.video.models.timesformer import TimeSformer\n",
    "from src.preprocessing.video.utils import normalize_path\n",
    "data = pd.read_csv(\"D:\\\\projects\\\\v2v\\\\v5\\\\data\\\\timesformer_dataset_v2.csv\", sep = \";\")"
   ]
  },
  {
   "cell_type": "code",
   "execution_count": 5,
   "metadata": {},
   "outputs": [],
   "source": [
    "sample_test = \"F:/video_classification/2014-11-04 - 22-45 Arsenal 3 - 3 Anderlecht\"\n",
    "# data_path = data[data['video_base_dir'] == sample_test]\n",
    "sample_frames = sorted([f\"{sample_test}/{i}/frames\" for i in os.listdir(sample_test) \\\n",
    "    if not (i.endswith(\".json\") or i.endswith('.csv'))], \\\n",
    "        key = lambda x: int(x.split(\"/\")[-2].split(\"_\")[-1])\n",
    "        )"
   ]
  },
  {
   "cell_type": "code",
   "execution_count": 6,
   "metadata": {},
   "outputs": [],
   "source": [
    "import os\n",
    "video = \"F:/video_classification/2014-11-04 - 22-45 Arsenal 3 - 3 Anderlecht\"\n",
    "# os.listdir(video)"
   ]
  },
  {
   "cell_type": "code",
   "execution_count": 24,
   "metadata": {},
   "outputs": [
    {
     "name": "stdout",
     "output_type": "stream",
     "text": [
      "['F:/video_classification/2014-11-04 - 22-45 Arsenal 3 - 3 Anderlecht/chunk_91/frames/frame_0001.png', 'F:/video_classification/2014-11-04 - 22-45 Arsenal 3 - 3 Anderlecht/chunk_91/frames/frame_0002.png', 'F:/video_classification/2014-11-04 - 22-45 Arsenal 3 - 3 Anderlecht/chunk_91/frames/frame_0003.png', 'F:/video_classification/2014-11-04 - 22-45 Arsenal 3 - 3 Anderlecht/chunk_91/frames/frame_0004.png', 'F:/video_classification/2014-11-04 - 22-45 Arsenal 3 - 3 Anderlecht/chunk_91/frames/frame_0005.png', 'F:/video_classification/2014-11-04 - 22-45 Arsenal 3 - 3 Anderlecht/chunk_91/frames/frame_0006.png', 'F:/video_classification/2014-11-04 - 22-45 Arsenal 3 - 3 Anderlecht/chunk_91/frames/frame_0007.png', 'F:/video_classification/2014-11-04 - 22-45 Arsenal 3 - 3 Anderlecht/chunk_91/frames/frame_0008.png', 'F:/video_classification/2014-11-04 - 22-45 Arsenal 3 - 3 Anderlecht/chunk_91/frames/frame_0009.png', 'F:/video_classification/2014-11-04 - 22-45 Arsenal 3 - 3 Anderlecht/chunk_91/frames/frame_0010.png', 'F:/video_classification/2014-11-04 - 22-45 Arsenal 3 - 3 Anderlecht/chunk_91/frames/frame_0011.png', 'F:/video_classification/2014-11-04 - 22-45 Arsenal 3 - 3 Anderlecht/chunk_91/frames/frame_0012.png', 'F:/video_classification/2014-11-04 - 22-45 Arsenal 3 - 3 Anderlecht/chunk_91/frames/frame_0013.png', 'F:/video_classification/2014-11-04 - 22-45 Arsenal 3 - 3 Anderlecht/chunk_91/frames/frame_0014.png', 'F:/video_classification/2014-11-04 - 22-45 Arsenal 3 - 3 Anderlecht/chunk_91/frames/frame_0015.png', 'F:/video_classification/2014-11-04 - 22-45 Arsenal 3 - 3 Anderlecht/chunk_91/frames/frame_0016.png', 'F:/video_classification/2014-11-04 - 22-45 Arsenal 3 - 3 Anderlecht/chunk_91/frames/frame_0017.png', 'F:/video_classification/2014-11-04 - 22-45 Arsenal 3 - 3 Anderlecht/chunk_91/frames/frame_0018.png', 'F:/video_classification/2014-11-04 - 22-45 Arsenal 3 - 3 Anderlecht/chunk_91/frames/frame_0019.png', 'F:/video_classification/2014-11-04 - 22-45 Arsenal 3 - 3 Anderlecht/chunk_91/frames/frame_0020.png', 'F:/video_classification/2014-11-04 - 22-45 Arsenal 3 - 3 Anderlecht/chunk_91/frames/frame_0021.png', 'F:/video_classification/2014-11-04 - 22-45 Arsenal 3 - 3 Anderlecht/chunk_91/frames/frame_0022.png', 'F:/video_classification/2014-11-04 - 22-45 Arsenal 3 - 3 Anderlecht/chunk_91/frames/frame_0023.png', 'F:/video_classification/2014-11-04 - 22-45 Arsenal 3 - 3 Anderlecht/chunk_91/frames/frame_0024.png', 'F:/video_classification/2014-11-04 - 22-45 Arsenal 3 - 3 Anderlecht/chunk_91/frames/frame_0025.png', 'F:/video_classification/2014-11-04 - 22-45 Arsenal 3 - 3 Anderlecht/chunk_91/frames/frame_0026.png', 'F:/video_classification/2014-11-04 - 22-45 Arsenal 3 - 3 Anderlecht/chunk_91/frames/frame_0027.png', 'F:/video_classification/2014-11-04 - 22-45 Arsenal 3 - 3 Anderlecht/chunk_91/frames/frame_0028.png', 'F:/video_classification/2014-11-04 - 22-45 Arsenal 3 - 3 Anderlecht/chunk_91/frames/frame_0029.png', 'F:/video_classification/2014-11-04 - 22-45 Arsenal 3 - 3 Anderlecht/chunk_91/frames/frame_0030.png']\n"
     ]
    },
    {
     "data": {
      "text/plain": [
       "[<PIL.Image.Image image mode=RGB size=398x224>,\n",
       " <PIL.Image.Image image mode=RGB size=398x224>,\n",
       " <PIL.Image.Image image mode=RGB size=398x224>,\n",
       " <PIL.Image.Image image mode=RGB size=398x224>,\n",
       " <PIL.Image.Image image mode=RGB size=398x224>,\n",
       " <PIL.Image.Image image mode=RGB size=398x224>,\n",
       " <PIL.Image.Image image mode=RGB size=398x224>,\n",
       " <PIL.Image.Image image mode=RGB size=398x224>,\n",
       " <PIL.Image.Image image mode=RGB size=398x224>,\n",
       " <PIL.Image.Image image mode=RGB size=398x224>,\n",
       " <PIL.Image.Image image mode=RGB size=398x224>,\n",
       " <PIL.Image.Image image mode=RGB size=398x224>,\n",
       " <PIL.Image.Image image mode=RGB size=398x224>,\n",
       " <PIL.Image.Image image mode=RGB size=398x224>,\n",
       " <PIL.Image.Image image mode=RGB size=398x224>,\n",
       " <PIL.Image.Image image mode=RGB size=398x224>,\n",
       " <PIL.Image.Image image mode=RGB size=398x224>,\n",
       " <PIL.Image.Image image mode=RGB size=398x224>,\n",
       " <PIL.Image.Image image mode=RGB size=398x224>,\n",
       " <PIL.Image.Image image mode=RGB size=398x224>,\n",
       " <PIL.Image.Image image mode=RGB size=398x224>,\n",
       " <PIL.Image.Image image mode=RGB size=398x224>,\n",
       " <PIL.Image.Image image mode=RGB size=398x224>,\n",
       " <PIL.Image.Image image mode=RGB size=398x224>,\n",
       " <PIL.Image.Image image mode=RGB size=398x224>,\n",
       " <PIL.Image.Image image mode=RGB size=398x224>,\n",
       " <PIL.Image.Image image mode=RGB size=398x224>,\n",
       " <PIL.Image.Image image mode=RGB size=398x224>,\n",
       " <PIL.Image.Image image mode=RGB size=398x224>,\n",
       " <PIL.Image.Image image mode=RGB size=398x224>]"
      ]
     },
     "execution_count": 24,
     "metadata": {},
     "output_type": "execute_result"
    }
   ],
   "source": [
    "import math\n",
    "def sample_frames_indices(video: str, method: str, spacing: int):\n",
    "        list_frames = [f\"{video}/{i}\" for i in os.listdir(video) if not i.endswith(\".json\")]\n",
    "        if method == 'from_top':\n",
    "            start_idx = 0\n",
    "            end_idx = len(list_frames) - 1\n",
    "            # Giới hạn số lượng indices tối đa theo x\n",
    "            actual_spacing = min(spacing, 30, len(list_frames))\n",
    "            \n",
    "            indices = numpy.linspace(start_idx, end_idx, actual_spacing)\n",
    "            indices = numpy.clip(indices, start_idx, end_idx - 1).astype(numpy.int64)\n",
    "        elif method == 'from_middle':\n",
    "            center_idx = math.ceil(len(list_frames) / 2) - 1\n",
    "            half_spacing = spacing // 2\n",
    "            \n",
    "            # Xác định khoảng lấy mẫu\n",
    "            start_idx = max(0, center_idx - half_spacing)\n",
    "            end_idx = min(len(list_frames) - 1, center_idx + half_spacing)\n",
    "            \n",
    "            # Giới hạn số lượng indices tối đa theo x\n",
    "            actual_spacing = min(spacing, 30, len(list_frames))\n",
    "            \n",
    "            indices = numpy.linspace(start_idx, end_idx, actual_spacing)\n",
    "            indices = numpy.clip(indices, 0, len(list_frames) - 1).astype(numpy.int64)\n",
    "            \n",
    "        frames_list = []  \n",
    "        for i, j in enumerate(list_frames):\n",
    "            if i in indices:\n",
    "                frames_list.append(j)\n",
    "        print(frames_list)\n",
    "        frames_list = [Image.open(img).convert('RGB') for img in frames_list]\n",
    "        \n",
    "        return frames_list\n",
    "\n",
    "\n",
    "vdo = sample_frames_indices(video = f\"{video}/chunk_91/frames\",\n",
    "                      method = 'from_middle',\n",
    "                      spacing = 30)    \n",
    "\n",
    "vdo"
   ]
  },
  {
   "cell_type": "code",
   "execution_count": 19,
   "metadata": {},
   "outputs": [],
   "source": [
    "import torch\n",
    "device = torch.device('cuda' if torch.cuda.is_available() else 'cpu')\n",
    "image_processor = AutoImageProcessor.from_pretrained(\"facebook/timesformer-base-finetuned-k400\", use_fast = True)\n",
    "inputs = image_processor(list(vdo), return_tensors=\"pt\").to(device)"
   ]
  },
  {
   "cell_type": "code",
   "execution_count": 18,
   "metadata": {},
   "outputs": [
    {
     "name": "stderr",
     "output_type": "stream",
     "text": [
      "Some weights of TimesformerModel were not initialized from the model checkpoint at fcakyon/timesformer-large-finetuned-k400 and are newly initialized because the shapes did not match:\n",
      "- timesformer.embeddings.time_embeddings: found shape torch.Size([1, 96, 768]) in the checkpoint and torch.Size([1, 30, 768]) in the model instantiated\n",
      "You should probably TRAIN this model on a down-stream task to be able to use it for predictions and inference.\n"
     ]
    }
   ],
   "source": [
    "from torch.optim import Adam\n",
    "model = TimeSformer(30, 17).to(device)\n",
    "ckpt = torch.load(\"./ds_tv360_model_timesformer_nepochs_2_nframes_30.pth\")\n",
    "optimizer = Adam([{\"params\": model.parameters(), \"lr\": 0.00001}])\n",
    "model.backbone.load_state_dict(ckpt[\"backbone\"])\n",
    "model.classifier.load_state_dict(ckpt[\"classifier\"])\n",
    "optimizer.load_state_dict(ckpt[\"optimizer\"])"
   ]
  },
  {
   "cell_type": "code",
   "execution_count": 20,
   "metadata": {},
   "outputs": [
    {
     "name": "stdout",
     "output_type": "stream",
     "text": [
      "tensor([[0.3371, 0.3837, 0.3741, 0.4338, 0.3416, 0.4571, 0.4195, 0.5029, 0.6915,\n",
      "         0.6164, 0.6040, 0.5748, 0.4252, 0.4554, 0.4673, 0.2496, 0.2635]],\n",
      "       device='cuda:0')\n"
     ]
    }
   ],
   "source": [
    "threshold = 0.5\n",
    "with torch.no_grad():\n",
    "    outputs = model.backbone(**inputs)\n",
    "    logits = model.classifier(outputs[0][:, 0])\n",
    "    probabilities = torch.sigmoid(logits)\n",
    "    predictions = (probabilities >= threshold).int() \n",
    "    print(probabilities)\n",
    "    "
   ]
  },
  {
   "cell_type": "code",
   "execution_count": 41,
   "metadata": {},
   "outputs": [
    {
     "data": {
      "text/plain": [
       "torch.Tensor"
      ]
     },
     "execution_count": 41,
     "metadata": {},
     "output_type": "execute_result"
    }
   ],
   "source": [
    "type(predictions)"
   ]
  },
  {
   "cell_type": "code",
   "execution_count": 26,
   "metadata": {},
   "outputs": [
    {
     "data": {
      "text/plain": [
       "[7, 8, 9, 10, 11]"
      ]
     },
     "execution_count": 26,
     "metadata": {},
     "output_type": "execute_result"
    }
   ],
   "source": [
    "def binary2label(values: torch.Tensor):\n",
    "    return torch.nonzero(values[0], as_tuple=True)[0].tolist()\n",
    "def label2binary():\n",
    "    pass\n",
    "\n",
    "def inferencing(inputs, threshold):\n",
    "    with torch.no_grad():\n",
    "        outputs = model.backbone(**inputs)\n",
    "        logits = model.classifier(outputs[0][:, 0])\n",
    "        probabilities = torch.sigmoid(logits)\n",
    "        predictions = (probabilities >= threshold).int()\n",
    "    return binary2label(predictions)\n",
    "\n",
    "inferencing(inputs, threshold)  "
   ]
  },
  {
   "cell_type": "code",
   "execution_count": 2,
   "metadata": {},
   "outputs": [
    {
     "data": {
      "text/plain": [
       "True"
      ]
     },
     "execution_count": 2,
     "metadata": {},
     "output_type": "execute_result"
    }
   ],
   "source": [
    "import os\n",
    "os.path.exists(\"F:/video_classification/2014-11-04 - 20-00 Zenit Petersburg 1 - 2 Bayer Leverkusen\")"
   ]
  },
  {
   "cell_type": "code",
   "execution_count": 29,
   "metadata": {},
   "outputs": [
    {
     "data": {
      "text/plain": [
       "'Kick-off'"
      ]
     },
     "execution_count": 29,
     "metadata": {},
     "output_type": "execute_result"
    }
   ],
   "source": [
    "from src.models.video.labels import INVERSE_EVENT_DICTIONARY_V2, EVENT_DICTIONARY_V2\n",
    "INVERSE_EVENT_DICTIONARY_V2.get(1)"
   ]
  },
  {
   "cell_type": "markdown",
   "metadata": {},
   "source": []
  },
  {
   "cell_type": "code",
   "execution_count": null,
   "metadata": {},
   "outputs": [],
   "source": []
  },
  {
   "cell_type": "code",
   "execution_count": 1,
   "metadata": {},
   "outputs": [],
   "source": [
    "from src.models.video import TimeSformerInferencing\n",
    "video = \"F:/video_classification/2014-11-04 - 20-00 Zenit Petersburg 1 - 2 Bayer Leverkusen\"\n",
    "inferencing =TimeSformerInferencing(\n",
    "    num_frames= 8,\n",
    "    num_classes = 17,\n",
    "    game_name = 'F:/video_classification/2014-11-04 - 20-00 Zenit Petersburg 1 - 2 Bayer Leverkusen',\n",
    "    checkpoint = './ds_tv360_model_timesformer_nepochs_1_nframes_8.pth')"
   ]
  },
  {
   "cell_type": "code",
   "execution_count": 2,
   "metadata": {},
   "outputs": [
    {
     "name": "stderr",
     "output_type": "stream",
     "text": [
      "  0%|          | 0/84 [00:00<?, ?it/s]`use_fast` is set to `True` but the image processor class does not have a fast version.  Falling back to the slow version.\n",
      "  1%|          | 1/84 [00:00<00:41,  2.01it/s]"
     ]
    },
    {
     "name": "stdout",
     "output_type": "stream",
     "text": [
      "F:/video_classification/2014-11-04 - 20-00 Zenit Petersburg 1 - 2 Bayer Leverkusen/chunk_0/frames ------ [8]\n"
     ]
    },
    {
     "name": "stderr",
     "output_type": "stream",
     "text": [
      "  2%|▏         | 2/84 [00:00<00:32,  2.50it/s]"
     ]
    },
    {
     "name": "stdout",
     "output_type": "stream",
     "text": [
      "F:/video_classification/2014-11-04 - 20-00 Zenit Petersburg 1 - 2 Bayer Leverkusen/chunk_1/frames ------ [8]\n"
     ]
    },
    {
     "name": "stderr",
     "output_type": "stream",
     "text": [
      "  4%|▎         | 3/84 [00:01<00:29,  2.70it/s]"
     ]
    },
    {
     "name": "stdout",
     "output_type": "stream",
     "text": [
      "F:/video_classification/2014-11-04 - 20-00 Zenit Petersburg 1 - 2 Bayer Leverkusen/chunk_2/frames ------ [8]\n"
     ]
    },
    {
     "name": "stderr",
     "output_type": "stream",
     "text": [
      "  5%|▍         | 4/84 [00:01<00:28,  2.83it/s]"
     ]
    },
    {
     "name": "stdout",
     "output_type": "stream",
     "text": [
      "F:/video_classification/2014-11-04 - 20-00 Zenit Petersburg 1 - 2 Bayer Leverkusen/chunk_3/frames ------ [8]\n"
     ]
    },
    {
     "name": "stderr",
     "output_type": "stream",
     "text": [
      "  6%|▌         | 5/84 [00:01<00:27,  2.87it/s]"
     ]
    },
    {
     "name": "stdout",
     "output_type": "stream",
     "text": [
      "F:/video_classification/2014-11-04 - 20-00 Zenit Petersburg 1 - 2 Bayer Leverkusen/chunk_4/frames ------ [8]\n"
     ]
    },
    {
     "name": "stderr",
     "output_type": "stream",
     "text": [
      "  7%|▋         | 6/84 [00:02<00:26,  2.91it/s]"
     ]
    },
    {
     "name": "stdout",
     "output_type": "stream",
     "text": [
      "F:/video_classification/2014-11-04 - 20-00 Zenit Petersburg 1 - 2 Bayer Leverkusen/chunk_5/frames ------ [8]\n"
     ]
    },
    {
     "name": "stderr",
     "output_type": "stream",
     "text": [
      "  8%|▊         | 7/84 [00:02<00:26,  2.95it/s]"
     ]
    },
    {
     "name": "stdout",
     "output_type": "stream",
     "text": [
      "F:/video_classification/2014-11-04 - 20-00 Zenit Petersburg 1 - 2 Bayer Leverkusen/chunk_6/frames ------ [8]\n"
     ]
    },
    {
     "name": "stderr",
     "output_type": "stream",
     "text": [
      " 10%|▉         | 8/84 [00:02<00:25,  2.98it/s]"
     ]
    },
    {
     "name": "stdout",
     "output_type": "stream",
     "text": [
      "F:/video_classification/2014-11-04 - 20-00 Zenit Petersburg 1 - 2 Bayer Leverkusen/chunk_7/frames ------ [8]\n"
     ]
    },
    {
     "name": "stderr",
     "output_type": "stream",
     "text": [
      " 11%|█         | 9/84 [00:03<00:25,  3.00it/s]"
     ]
    },
    {
     "name": "stdout",
     "output_type": "stream",
     "text": [
      "F:/video_classification/2014-11-04 - 20-00 Zenit Petersburg 1 - 2 Bayer Leverkusen/chunk_8/frames ------ [8]\n"
     ]
    },
    {
     "name": "stderr",
     "output_type": "stream",
     "text": [
      " 12%|█▏        | 10/84 [00:03<00:24,  2.99it/s]"
     ]
    },
    {
     "name": "stdout",
     "output_type": "stream",
     "text": [
      "F:/video_classification/2014-11-04 - 20-00 Zenit Petersburg 1 - 2 Bayer Leverkusen/chunk_9/frames ------ [8]\n"
     ]
    },
    {
     "name": "stderr",
     "output_type": "stream",
     "text": [
      " 13%|█▎        | 11/84 [00:03<00:24,  2.94it/s]"
     ]
    },
    {
     "name": "stdout",
     "output_type": "stream",
     "text": [
      "F:/video_classification/2014-11-04 - 20-00 Zenit Petersburg 1 - 2 Bayer Leverkusen/chunk_10/frames ------ [8]\n"
     ]
    },
    {
     "name": "stderr",
     "output_type": "stream",
     "text": [
      " 14%|█▍        | 12/84 [00:04<00:24,  2.90it/s]"
     ]
    },
    {
     "name": "stdout",
     "output_type": "stream",
     "text": [
      "F:/video_classification/2014-11-04 - 20-00 Zenit Petersburg 1 - 2 Bayer Leverkusen/chunk_11/frames ------ [8]\n"
     ]
    },
    {
     "name": "stderr",
     "output_type": "stream",
     "text": [
      " 15%|█▌        | 13/84 [00:04<00:25,  2.82it/s]"
     ]
    },
    {
     "name": "stdout",
     "output_type": "stream",
     "text": [
      "F:/video_classification/2014-11-04 - 20-00 Zenit Petersburg 1 - 2 Bayer Leverkusen/chunk_12/frames ------ [8]\n"
     ]
    },
    {
     "name": "stderr",
     "output_type": "stream",
     "text": [
      " 17%|█▋        | 14/84 [00:04<00:25,  2.75it/s]"
     ]
    },
    {
     "name": "stdout",
     "output_type": "stream",
     "text": [
      "F:/video_classification/2014-11-04 - 20-00 Zenit Petersburg 1 - 2 Bayer Leverkusen/chunk_13/frames ------ [8]\n"
     ]
    },
    {
     "name": "stderr",
     "output_type": "stream",
     "text": [
      " 18%|█▊        | 15/84 [00:05<00:25,  2.73it/s]"
     ]
    },
    {
     "name": "stdout",
     "output_type": "stream",
     "text": [
      "F:/video_classification/2014-11-04 - 20-00 Zenit Petersburg 1 - 2 Bayer Leverkusen/chunk_14/frames ------ [8]\n"
     ]
    },
    {
     "name": "stderr",
     "output_type": "stream",
     "text": [
      " 19%|█▉        | 16/84 [00:05<00:24,  2.73it/s]"
     ]
    },
    {
     "name": "stdout",
     "output_type": "stream",
     "text": [
      "F:/video_classification/2014-11-04 - 20-00 Zenit Petersburg 1 - 2 Bayer Leverkusen/chunk_15/frames ------ [8]\n"
     ]
    },
    {
     "name": "stderr",
     "output_type": "stream",
     "text": [
      " 20%|██        | 17/84 [00:06<00:24,  2.74it/s]"
     ]
    },
    {
     "name": "stdout",
     "output_type": "stream",
     "text": [
      "F:/video_classification/2014-11-04 - 20-00 Zenit Petersburg 1 - 2 Bayer Leverkusen/chunk_16/frames ------ [8]\n"
     ]
    },
    {
     "name": "stderr",
     "output_type": "stream",
     "text": [
      " 21%|██▏       | 18/84 [00:06<00:24,  2.74it/s]"
     ]
    },
    {
     "name": "stdout",
     "output_type": "stream",
     "text": [
      "F:/video_classification/2014-11-04 - 20-00 Zenit Petersburg 1 - 2 Bayer Leverkusen/chunk_17/frames ------ [8]\n"
     ]
    },
    {
     "name": "stderr",
     "output_type": "stream",
     "text": [
      " 23%|██▎       | 19/84 [00:06<00:23,  2.74it/s]"
     ]
    },
    {
     "name": "stdout",
     "output_type": "stream",
     "text": [
      "F:/video_classification/2014-11-04 - 20-00 Zenit Petersburg 1 - 2 Bayer Leverkusen/chunk_18/frames ------ [8]\n"
     ]
    },
    {
     "name": "stderr",
     "output_type": "stream",
     "text": [
      " 24%|██▍       | 20/84 [00:07<00:23,  2.74it/s]"
     ]
    },
    {
     "name": "stdout",
     "output_type": "stream",
     "text": [
      "F:/video_classification/2014-11-04 - 20-00 Zenit Petersburg 1 - 2 Bayer Leverkusen/chunk_19/frames ------ [8]\n"
     ]
    },
    {
     "name": "stderr",
     "output_type": "stream",
     "text": [
      " 25%|██▌       | 21/84 [00:07<00:22,  2.76it/s]"
     ]
    },
    {
     "name": "stdout",
     "output_type": "stream",
     "text": [
      "F:/video_classification/2014-11-04 - 20-00 Zenit Petersburg 1 - 2 Bayer Leverkusen/chunk_20/frames ------ [8]\n"
     ]
    },
    {
     "name": "stderr",
     "output_type": "stream",
     "text": [
      " 26%|██▌       | 22/84 [00:07<00:23,  2.66it/s]"
     ]
    },
    {
     "name": "stdout",
     "output_type": "stream",
     "text": [
      "F:/video_classification/2014-11-04 - 20-00 Zenit Petersburg 1 - 2 Bayer Leverkusen/chunk_21/frames ------ [8]\n"
     ]
    },
    {
     "name": "stderr",
     "output_type": "stream",
     "text": [
      " 27%|██▋       | 23/84 [00:08<00:22,  2.68it/s]"
     ]
    },
    {
     "name": "stdout",
     "output_type": "stream",
     "text": [
      "F:/video_classification/2014-11-04 - 20-00 Zenit Petersburg 1 - 2 Bayer Leverkusen/chunk_22/frames ------ [8]\n"
     ]
    },
    {
     "name": "stderr",
     "output_type": "stream",
     "text": [
      " 29%|██▊       | 24/84 [00:08<00:23,  2.57it/s]"
     ]
    },
    {
     "name": "stdout",
     "output_type": "stream",
     "text": [
      "F:/video_classification/2014-11-04 - 20-00 Zenit Petersburg 1 - 2 Bayer Leverkusen/chunk_23/frames ------ [8]\n"
     ]
    },
    {
     "name": "stderr",
     "output_type": "stream",
     "text": [
      " 30%|██▉       | 25/84 [00:09<00:22,  2.61it/s]"
     ]
    },
    {
     "name": "stdout",
     "output_type": "stream",
     "text": [
      "F:/video_classification/2014-11-04 - 20-00 Zenit Petersburg 1 - 2 Bayer Leverkusen/chunk_24/frames ------ [8]\n"
     ]
    },
    {
     "name": "stderr",
     "output_type": "stream",
     "text": [
      " 31%|███       | 26/84 [00:09<00:21,  2.66it/s]"
     ]
    },
    {
     "name": "stdout",
     "output_type": "stream",
     "text": [
      "F:/video_classification/2014-11-04 - 20-00 Zenit Petersburg 1 - 2 Bayer Leverkusen/chunk_25/frames ------ [8]\n"
     ]
    },
    {
     "name": "stderr",
     "output_type": "stream",
     "text": [
      " 32%|███▏      | 27/84 [00:09<00:21,  2.69it/s]"
     ]
    },
    {
     "name": "stdout",
     "output_type": "stream",
     "text": [
      "F:/video_classification/2014-11-04 - 20-00 Zenit Petersburg 1 - 2 Bayer Leverkusen/chunk_26/frames ------ [8]\n"
     ]
    },
    {
     "name": "stderr",
     "output_type": "stream",
     "text": [
      " 33%|███▎      | 28/84 [00:10<00:21,  2.60it/s]"
     ]
    },
    {
     "name": "stdout",
     "output_type": "stream",
     "text": [
      "F:/video_classification/2014-11-04 - 20-00 Zenit Petersburg 1 - 2 Bayer Leverkusen/chunk_27/frames ------ [8]\n"
     ]
    },
    {
     "name": "stderr",
     "output_type": "stream",
     "text": [
      " 35%|███▍      | 29/84 [00:10<00:21,  2.51it/s]"
     ]
    },
    {
     "name": "stdout",
     "output_type": "stream",
     "text": [
      "F:/video_classification/2014-11-04 - 20-00 Zenit Petersburg 1 - 2 Bayer Leverkusen/chunk_28/frames ------ [8]\n"
     ]
    },
    {
     "name": "stderr",
     "output_type": "stream",
     "text": [
      " 36%|███▌      | 30/84 [00:11<00:21,  2.57it/s]"
     ]
    },
    {
     "name": "stdout",
     "output_type": "stream",
     "text": [
      "F:/video_classification/2014-11-04 - 20-00 Zenit Petersburg 1 - 2 Bayer Leverkusen/chunk_29/frames ------ [8]\n"
     ]
    },
    {
     "name": "stderr",
     "output_type": "stream",
     "text": [
      " 37%|███▋      | 31/84 [00:11<00:20,  2.62it/s]"
     ]
    },
    {
     "name": "stdout",
     "output_type": "stream",
     "text": [
      "F:/video_classification/2014-11-04 - 20-00 Zenit Petersburg 1 - 2 Bayer Leverkusen/chunk_30/frames ------ [8]\n"
     ]
    },
    {
     "name": "stderr",
     "output_type": "stream",
     "text": [
      " 38%|███▊      | 32/84 [00:11<00:19,  2.67it/s]"
     ]
    },
    {
     "name": "stdout",
     "output_type": "stream",
     "text": [
      "F:/video_classification/2014-11-04 - 20-00 Zenit Petersburg 1 - 2 Bayer Leverkusen/chunk_31/frames ------ [8]\n"
     ]
    },
    {
     "name": "stderr",
     "output_type": "stream",
     "text": [
      " 39%|███▉      | 33/84 [00:12<00:18,  2.70it/s]"
     ]
    },
    {
     "name": "stdout",
     "output_type": "stream",
     "text": [
      "F:/video_classification/2014-11-04 - 20-00 Zenit Petersburg 1 - 2 Bayer Leverkusen/chunk_32/frames ------ [8]\n"
     ]
    },
    {
     "name": "stderr",
     "output_type": "stream",
     "text": [
      " 40%|████      | 34/84 [00:12<00:18,  2.71it/s]"
     ]
    },
    {
     "name": "stdout",
     "output_type": "stream",
     "text": [
      "F:/video_classification/2014-11-04 - 20-00 Zenit Petersburg 1 - 2 Bayer Leverkusen/chunk_33/frames ------ [8]\n"
     ]
    },
    {
     "name": "stderr",
     "output_type": "stream",
     "text": [
      " 42%|████▏     | 35/84 [00:12<00:18,  2.72it/s]"
     ]
    },
    {
     "name": "stdout",
     "output_type": "stream",
     "text": [
      "F:/video_classification/2014-11-04 - 20-00 Zenit Petersburg 1 - 2 Bayer Leverkusen/chunk_34/frames ------ [8]\n"
     ]
    },
    {
     "name": "stderr",
     "output_type": "stream",
     "text": [
      " 43%|████▎     | 36/84 [00:13<00:17,  2.72it/s]"
     ]
    },
    {
     "name": "stdout",
     "output_type": "stream",
     "text": [
      "F:/video_classification/2014-11-04 - 20-00 Zenit Petersburg 1 - 2 Bayer Leverkusen/chunk_35/frames ------ [8]\n"
     ]
    },
    {
     "name": "stderr",
     "output_type": "stream",
     "text": [
      " 44%|████▍     | 37/84 [00:13<00:17,  2.73it/s]"
     ]
    },
    {
     "name": "stdout",
     "output_type": "stream",
     "text": [
      "F:/video_classification/2014-11-04 - 20-00 Zenit Petersburg 1 - 2 Bayer Leverkusen/chunk_36/frames ------ [8]\n"
     ]
    },
    {
     "name": "stderr",
     "output_type": "stream",
     "text": [
      " 45%|████▌     | 38/84 [00:13<00:16,  2.74it/s]"
     ]
    },
    {
     "name": "stdout",
     "output_type": "stream",
     "text": [
      "F:/video_classification/2014-11-04 - 20-00 Zenit Petersburg 1 - 2 Bayer Leverkusen/chunk_37/frames ------ [8]\n"
     ]
    },
    {
     "name": "stderr",
     "output_type": "stream",
     "text": [
      " 46%|████▋     | 39/84 [00:14<00:16,  2.70it/s]"
     ]
    },
    {
     "name": "stdout",
     "output_type": "stream",
     "text": [
      "F:/video_classification/2014-11-04 - 20-00 Zenit Petersburg 1 - 2 Bayer Leverkusen/chunk_38/frames ------ [8]\n"
     ]
    },
    {
     "name": "stderr",
     "output_type": "stream",
     "text": [
      " 48%|████▊     | 40/84 [00:14<00:16,  2.69it/s]"
     ]
    },
    {
     "name": "stdout",
     "output_type": "stream",
     "text": [
      "F:/video_classification/2014-11-04 - 20-00 Zenit Petersburg 1 - 2 Bayer Leverkusen/chunk_39/frames ------ [8]\n"
     ]
    },
    {
     "name": "stderr",
     "output_type": "stream",
     "text": [
      " 49%|████▉     | 41/84 [00:15<00:15,  2.72it/s]"
     ]
    },
    {
     "name": "stdout",
     "output_type": "stream",
     "text": [
      "F:/video_classification/2014-11-04 - 20-00 Zenit Petersburg 1 - 2 Bayer Leverkusen/chunk_40/frames ------ [8]\n"
     ]
    },
    {
     "name": "stderr",
     "output_type": "stream",
     "text": [
      " 50%|█████     | 42/84 [00:15<00:15,  2.73it/s]"
     ]
    },
    {
     "name": "stdout",
     "output_type": "stream",
     "text": [
      "F:/video_classification/2014-11-04 - 20-00 Zenit Petersburg 1 - 2 Bayer Leverkusen/chunk_41/frames ------ [8]\n"
     ]
    },
    {
     "name": "stderr",
     "output_type": "stream",
     "text": [
      " 51%|█████     | 43/84 [00:15<00:14,  2.76it/s]"
     ]
    },
    {
     "name": "stdout",
     "output_type": "stream",
     "text": [
      "F:/video_classification/2014-11-04 - 20-00 Zenit Petersburg 1 - 2 Bayer Leverkusen/chunk_42/frames ------ [8]\n"
     ]
    },
    {
     "name": "stderr",
     "output_type": "stream",
     "text": [
      " 52%|█████▏    | 44/84 [00:16<00:14,  2.73it/s]"
     ]
    },
    {
     "name": "stdout",
     "output_type": "stream",
     "text": [
      "F:/video_classification/2014-11-04 - 20-00 Zenit Petersburg 1 - 2 Bayer Leverkusen/chunk_43/frames ------ [8]\n"
     ]
    },
    {
     "name": "stderr",
     "output_type": "stream",
     "text": [
      " 54%|█████▎    | 45/84 [00:16<00:14,  2.71it/s]"
     ]
    },
    {
     "name": "stdout",
     "output_type": "stream",
     "text": [
      "F:/video_classification/2014-11-04 - 20-00 Zenit Petersburg 1 - 2 Bayer Leverkusen/chunk_44/frames ------ [8]\n"
     ]
    },
    {
     "name": "stderr",
     "output_type": "stream",
     "text": [
      " 55%|█████▍    | 46/84 [00:16<00:13,  2.71it/s]"
     ]
    },
    {
     "name": "stdout",
     "output_type": "stream",
     "text": [
      "F:/video_classification/2014-11-04 - 20-00 Zenit Petersburg 1 - 2 Bayer Leverkusen/chunk_45/frames ------ [8]\n"
     ]
    },
    {
     "name": "stderr",
     "output_type": "stream",
     "text": [
      " 56%|█████▌    | 47/84 [00:17<00:14,  2.58it/s]"
     ]
    },
    {
     "name": "stdout",
     "output_type": "stream",
     "text": [
      "F:/video_classification/2014-11-04 - 20-00 Zenit Petersburg 1 - 2 Bayer Leverkusen/chunk_46/frames ------ [8]\n"
     ]
    },
    {
     "name": "stderr",
     "output_type": "stream",
     "text": [
      " 57%|█████▋    | 48/84 [00:17<00:13,  2.63it/s]"
     ]
    },
    {
     "name": "stdout",
     "output_type": "stream",
     "text": [
      "F:/video_classification/2014-11-04 - 20-00 Zenit Petersburg 1 - 2 Bayer Leverkusen/chunk_47/frames ------ [8]\n"
     ]
    },
    {
     "name": "stderr",
     "output_type": "stream",
     "text": [
      " 58%|█████▊    | 49/84 [00:18<00:13,  2.67it/s]"
     ]
    },
    {
     "name": "stdout",
     "output_type": "stream",
     "text": [
      "F:/video_classification/2014-11-04 - 20-00 Zenit Petersburg 1 - 2 Bayer Leverkusen/chunk_48/frames ------ [8]\n"
     ]
    },
    {
     "name": "stderr",
     "output_type": "stream",
     "text": [
      " 60%|█████▉    | 50/84 [00:18<00:12,  2.70it/s]"
     ]
    },
    {
     "name": "stdout",
     "output_type": "stream",
     "text": [
      "F:/video_classification/2014-11-04 - 20-00 Zenit Petersburg 1 - 2 Bayer Leverkusen/chunk_49/frames ------ [8]\n"
     ]
    },
    {
     "name": "stderr",
     "output_type": "stream",
     "text": [
      " 61%|██████    | 51/84 [00:18<00:12,  2.69it/s]"
     ]
    },
    {
     "name": "stdout",
     "output_type": "stream",
     "text": [
      "F:/video_classification/2014-11-04 - 20-00 Zenit Petersburg 1 - 2 Bayer Leverkusen/chunk_50/frames ------ [8]\n"
     ]
    },
    {
     "name": "stderr",
     "output_type": "stream",
     "text": [
      " 62%|██████▏   | 52/84 [00:19<00:11,  2.70it/s]"
     ]
    },
    {
     "name": "stdout",
     "output_type": "stream",
     "text": [
      "F:/video_classification/2014-11-04 - 20-00 Zenit Petersburg 1 - 2 Bayer Leverkusen/chunk_51/frames ------ [8]\n"
     ]
    },
    {
     "name": "stderr",
     "output_type": "stream",
     "text": [
      " 63%|██████▎   | 53/84 [00:19<00:11,  2.68it/s]"
     ]
    },
    {
     "name": "stdout",
     "output_type": "stream",
     "text": [
      "F:/video_classification/2014-11-04 - 20-00 Zenit Petersburg 1 - 2 Bayer Leverkusen/chunk_52/frames ------ [8]\n"
     ]
    },
    {
     "name": "stderr",
     "output_type": "stream",
     "text": [
      " 64%|██████▍   | 54/84 [00:19<00:11,  2.72it/s]"
     ]
    },
    {
     "name": "stdout",
     "output_type": "stream",
     "text": [
      "F:/video_classification/2014-11-04 - 20-00 Zenit Petersburg 1 - 2 Bayer Leverkusen/chunk_53/frames ------ [8]\n"
     ]
    },
    {
     "name": "stderr",
     "output_type": "stream",
     "text": [
      " 65%|██████▌   | 55/84 [00:20<00:10,  2.71it/s]"
     ]
    },
    {
     "name": "stdout",
     "output_type": "stream",
     "text": [
      "F:/video_classification/2014-11-04 - 20-00 Zenit Petersburg 1 - 2 Bayer Leverkusen/chunk_54/frames ------ [8]\n"
     ]
    },
    {
     "name": "stderr",
     "output_type": "stream",
     "text": [
      " 67%|██████▋   | 56/84 [00:20<00:10,  2.72it/s]"
     ]
    },
    {
     "name": "stdout",
     "output_type": "stream",
     "text": [
      "F:/video_classification/2014-11-04 - 20-00 Zenit Petersburg 1 - 2 Bayer Leverkusen/chunk_55/frames ------ [8]\n"
     ]
    },
    {
     "name": "stderr",
     "output_type": "stream",
     "text": [
      " 68%|██████▊   | 57/84 [00:20<00:09,  2.73it/s]"
     ]
    },
    {
     "name": "stdout",
     "output_type": "stream",
     "text": [
      "F:/video_classification/2014-11-04 - 20-00 Zenit Petersburg 1 - 2 Bayer Leverkusen/chunk_56/frames ------ [8]\n"
     ]
    },
    {
     "name": "stderr",
     "output_type": "stream",
     "text": [
      " 69%|██████▉   | 58/84 [00:21<00:09,  2.72it/s]"
     ]
    },
    {
     "name": "stdout",
     "output_type": "stream",
     "text": [
      "F:/video_classification/2014-11-04 - 20-00 Zenit Petersburg 1 - 2 Bayer Leverkusen/chunk_57/frames ------ [8]\n"
     ]
    },
    {
     "name": "stderr",
     "output_type": "stream",
     "text": [
      " 70%|███████   | 59/84 [00:21<00:09,  2.72it/s]"
     ]
    },
    {
     "name": "stdout",
     "output_type": "stream",
     "text": [
      "F:/video_classification/2014-11-04 - 20-00 Zenit Petersburg 1 - 2 Bayer Leverkusen/chunk_58/frames ------ [8]\n"
     ]
    },
    {
     "name": "stderr",
     "output_type": "stream",
     "text": [
      " 71%|███████▏  | 60/84 [00:22<00:08,  2.71it/s]"
     ]
    },
    {
     "name": "stdout",
     "output_type": "stream",
     "text": [
      "F:/video_classification/2014-11-04 - 20-00 Zenit Petersburg 1 - 2 Bayer Leverkusen/chunk_59/frames ------ [8]\n"
     ]
    },
    {
     "name": "stderr",
     "output_type": "stream",
     "text": [
      " 73%|███████▎  | 61/84 [00:22<00:08,  2.73it/s]"
     ]
    },
    {
     "name": "stdout",
     "output_type": "stream",
     "text": [
      "F:/video_classification/2014-11-04 - 20-00 Zenit Petersburg 1 - 2 Bayer Leverkusen/chunk_60/frames ------ [8]\n"
     ]
    },
    {
     "name": "stderr",
     "output_type": "stream",
     "text": [
      " 74%|███████▍  | 62/84 [00:22<00:08,  2.75it/s]"
     ]
    },
    {
     "name": "stdout",
     "output_type": "stream",
     "text": [
      "F:/video_classification/2014-11-04 - 20-00 Zenit Petersburg 1 - 2 Bayer Leverkusen/chunk_61/frames ------ [8]\n"
     ]
    },
    {
     "name": "stderr",
     "output_type": "stream",
     "text": [
      " 75%|███████▌  | 63/84 [00:23<00:07,  2.75it/s]"
     ]
    },
    {
     "name": "stdout",
     "output_type": "stream",
     "text": [
      "F:/video_classification/2014-11-04 - 20-00 Zenit Petersburg 1 - 2 Bayer Leverkusen/chunk_62/frames ------ [8]\n"
     ]
    },
    {
     "name": "stderr",
     "output_type": "stream",
     "text": [
      " 76%|███████▌  | 64/84 [00:23<00:07,  2.76it/s]"
     ]
    },
    {
     "name": "stdout",
     "output_type": "stream",
     "text": [
      "F:/video_classification/2014-11-04 - 20-00 Zenit Petersburg 1 - 2 Bayer Leverkusen/chunk_63/frames ------ [8]\n"
     ]
    },
    {
     "name": "stderr",
     "output_type": "stream",
     "text": [
      " 77%|███████▋  | 65/84 [00:23<00:06,  2.75it/s]"
     ]
    },
    {
     "name": "stdout",
     "output_type": "stream",
     "text": [
      "F:/video_classification/2014-11-04 - 20-00 Zenit Petersburg 1 - 2 Bayer Leverkusen/chunk_64/frames ------ [8]\n"
     ]
    },
    {
     "name": "stderr",
     "output_type": "stream",
     "text": [
      " 79%|███████▊  | 66/84 [00:24<00:06,  2.74it/s]"
     ]
    },
    {
     "name": "stdout",
     "output_type": "stream",
     "text": [
      "F:/video_classification/2014-11-04 - 20-00 Zenit Petersburg 1 - 2 Bayer Leverkusen/chunk_65/frames ------ [8]\n"
     ]
    },
    {
     "name": "stderr",
     "output_type": "stream",
     "text": [
      " 80%|███████▉  | 67/84 [00:24<00:06,  2.75it/s]"
     ]
    },
    {
     "name": "stdout",
     "output_type": "stream",
     "text": [
      "F:/video_classification/2014-11-04 - 20-00 Zenit Petersburg 1 - 2 Bayer Leverkusen/chunk_66/frames ------ [8]\n"
     ]
    },
    {
     "name": "stderr",
     "output_type": "stream",
     "text": [
      " 81%|████████  | 68/84 [00:24<00:05,  2.74it/s]"
     ]
    },
    {
     "name": "stdout",
     "output_type": "stream",
     "text": [
      "F:/video_classification/2014-11-04 - 20-00 Zenit Petersburg 1 - 2 Bayer Leverkusen/chunk_67/frames ------ [8]\n"
     ]
    },
    {
     "name": "stderr",
     "output_type": "stream",
     "text": [
      " 82%|████████▏ | 69/84 [00:25<00:06,  2.41it/s]"
     ]
    },
    {
     "name": "stdout",
     "output_type": "stream",
     "text": [
      "F:/video_classification/2014-11-04 - 20-00 Zenit Petersburg 1 - 2 Bayer Leverkusen/chunk_68/frames ------ [8]\n"
     ]
    },
    {
     "name": "stderr",
     "output_type": "stream",
     "text": [
      " 83%|████████▎ | 70/84 [00:25<00:05,  2.50it/s]"
     ]
    },
    {
     "name": "stdout",
     "output_type": "stream",
     "text": [
      "F:/video_classification/2014-11-04 - 20-00 Zenit Petersburg 1 - 2 Bayer Leverkusen/chunk_69/frames ------ [8]\n"
     ]
    },
    {
     "name": "stderr",
     "output_type": "stream",
     "text": [
      " 85%|████████▍ | 71/84 [00:26<00:05,  2.53it/s]"
     ]
    },
    {
     "name": "stdout",
     "output_type": "stream",
     "text": [
      "F:/video_classification/2014-11-04 - 20-00 Zenit Petersburg 1 - 2 Bayer Leverkusen/chunk_70/frames ------ [8]\n"
     ]
    },
    {
     "name": "stderr",
     "output_type": "stream",
     "text": [
      " 86%|████████▌ | 72/84 [00:26<00:04,  2.59it/s]"
     ]
    },
    {
     "name": "stdout",
     "output_type": "stream",
     "text": [
      "F:/video_classification/2014-11-04 - 20-00 Zenit Petersburg 1 - 2 Bayer Leverkusen/chunk_71/frames ------ [8]\n"
     ]
    },
    {
     "name": "stderr",
     "output_type": "stream",
     "text": [
      " 87%|████████▋ | 73/84 [00:26<00:04,  2.63it/s]"
     ]
    },
    {
     "name": "stdout",
     "output_type": "stream",
     "text": [
      "F:/video_classification/2014-11-04 - 20-00 Zenit Petersburg 1 - 2 Bayer Leverkusen/chunk_72/frames ------ [8]\n"
     ]
    },
    {
     "name": "stderr",
     "output_type": "stream",
     "text": [
      " 88%|████████▊ | 74/84 [00:27<00:03,  2.61it/s]"
     ]
    },
    {
     "name": "stdout",
     "output_type": "stream",
     "text": [
      "F:/video_classification/2014-11-04 - 20-00 Zenit Petersburg 1 - 2 Bayer Leverkusen/chunk_73/frames ------ [8]\n"
     ]
    },
    {
     "name": "stderr",
     "output_type": "stream",
     "text": [
      " 89%|████████▉ | 75/84 [00:27<00:03,  2.67it/s]"
     ]
    },
    {
     "name": "stdout",
     "output_type": "stream",
     "text": [
      "F:/video_classification/2014-11-04 - 20-00 Zenit Petersburg 1 - 2 Bayer Leverkusen/chunk_74/frames ------ [8]\n"
     ]
    },
    {
     "name": "stderr",
     "output_type": "stream",
     "text": [
      " 90%|█████████ | 76/84 [00:28<00:02,  2.68it/s]"
     ]
    },
    {
     "name": "stdout",
     "output_type": "stream",
     "text": [
      "F:/video_classification/2014-11-04 - 20-00 Zenit Petersburg 1 - 2 Bayer Leverkusen/chunk_75/frames ------ [8]\n"
     ]
    },
    {
     "name": "stderr",
     "output_type": "stream",
     "text": [
      " 92%|█████████▏| 77/84 [00:28<00:02,  2.70it/s]"
     ]
    },
    {
     "name": "stdout",
     "output_type": "stream",
     "text": [
      "F:/video_classification/2014-11-04 - 20-00 Zenit Petersburg 1 - 2 Bayer Leverkusen/chunk_76/frames ------ [8]\n"
     ]
    },
    {
     "name": "stderr",
     "output_type": "stream",
     "text": [
      " 93%|█████████▎| 78/84 [00:28<00:02,  2.70it/s]"
     ]
    },
    {
     "name": "stdout",
     "output_type": "stream",
     "text": [
      "F:/video_classification/2014-11-04 - 20-00 Zenit Petersburg 1 - 2 Bayer Leverkusen/chunk_77/frames ------ [8]\n"
     ]
    },
    {
     "name": "stderr",
     "output_type": "stream",
     "text": [
      " 94%|█████████▍| 79/84 [00:29<00:01,  2.71it/s]"
     ]
    },
    {
     "name": "stdout",
     "output_type": "stream",
     "text": [
      "F:/video_classification/2014-11-04 - 20-00 Zenit Petersburg 1 - 2 Bayer Leverkusen/chunk_78/frames ------ [8]\n"
     ]
    },
    {
     "name": "stderr",
     "output_type": "stream",
     "text": [
      " 95%|█████████▌| 80/84 [00:29<00:01,  2.71it/s]"
     ]
    },
    {
     "name": "stdout",
     "output_type": "stream",
     "text": [
      "F:/video_classification/2014-11-04 - 20-00 Zenit Petersburg 1 - 2 Bayer Leverkusen/chunk_79/frames ------ [8]\n"
     ]
    },
    {
     "name": "stderr",
     "output_type": "stream",
     "text": [
      " 96%|█████████▋| 81/84 [00:29<00:01,  2.72it/s]"
     ]
    },
    {
     "name": "stdout",
     "output_type": "stream",
     "text": [
      "F:/video_classification/2014-11-04 - 20-00 Zenit Petersburg 1 - 2 Bayer Leverkusen/chunk_80/frames ------ [8]\n"
     ]
    },
    {
     "name": "stderr",
     "output_type": "stream",
     "text": [
      " 98%|█████████▊| 82/84 [00:30<00:00,  2.67it/s]"
     ]
    },
    {
     "name": "stdout",
     "output_type": "stream",
     "text": [
      "F:/video_classification/2014-11-04 - 20-00 Zenit Petersburg 1 - 2 Bayer Leverkusen/chunk_81/frames ------ [8]\n"
     ]
    },
    {
     "name": "stderr",
     "output_type": "stream",
     "text": [
      " 99%|█████████▉| 83/84 [00:30<00:00,  2.71it/s]"
     ]
    },
    {
     "name": "stdout",
     "output_type": "stream",
     "text": [
      "F:/video_classification/2014-11-04 - 20-00 Zenit Petersburg 1 - 2 Bayer Leverkusen/chunk_82/frames ------ [8]\n"
     ]
    },
    {
     "name": "stderr",
     "output_type": "stream",
     "text": [
      "100%|██████████| 84/84 [00:31<00:00,  2.70it/s]"
     ]
    },
    {
     "name": "stdout",
     "output_type": "stream",
     "text": [
      "F:/video_classification/2014-11-04 - 20-00 Zenit Petersburg 1 - 2 Bayer Leverkusen/chunk_83/frames ------ [8]\n"
     ]
    },
    {
     "name": "stderr",
     "output_type": "stream",
     "text": [
      "\n"
     ]
    },
    {
     "data": {
      "text/plain": [
       "[[8],\n",
       " [8],\n",
       " [8],\n",
       " [8],\n",
       " [8],\n",
       " [8],\n",
       " [8],\n",
       " [8],\n",
       " [8],\n",
       " [8],\n",
       " [8],\n",
       " [8],\n",
       " [8],\n",
       " [8],\n",
       " [8],\n",
       " [8],\n",
       " [8],\n",
       " [8],\n",
       " [8],\n",
       " [8],\n",
       " [8],\n",
       " [8],\n",
       " [8],\n",
       " [8],\n",
       " [8],\n",
       " [8],\n",
       " [8],\n",
       " [8],\n",
       " [8],\n",
       " [8],\n",
       " [8],\n",
       " [8],\n",
       " [8],\n",
       " [8],\n",
       " [8],\n",
       " [8],\n",
       " [8],\n",
       " [8],\n",
       " [8],\n",
       " [8],\n",
       " [8],\n",
       " [8],\n",
       " [8],\n",
       " [8],\n",
       " [8],\n",
       " [8],\n",
       " [8],\n",
       " [8],\n",
       " [8],\n",
       " [8],\n",
       " [8],\n",
       " [8],\n",
       " [8],\n",
       " [8],\n",
       " [8],\n",
       " [8],\n",
       " [8],\n",
       " [8],\n",
       " [8],\n",
       " [8],\n",
       " [8],\n",
       " [8],\n",
       " [8],\n",
       " [8],\n",
       " [8],\n",
       " [8],\n",
       " [8],\n",
       " [8],\n",
       " [8],\n",
       " [8],\n",
       " [8],\n",
       " [8],\n",
       " [8],\n",
       " [8],\n",
       " [8],\n",
       " [8],\n",
       " [8],\n",
       " [8],\n",
       " [8],\n",
       " [8],\n",
       " [8],\n",
       " [8],\n",
       " [8],\n",
       " [8]]"
      ]
     },
     "execution_count": 2,
     "metadata": {},
     "output_type": "execute_result"
    }
   ],
   "source": [
    "\n",
    "## Hiện tại đang bị lặp \n",
    "inferencing.run( method='from_top', spacing = 4, threshold =0.6)"
   ]
  },
  {
   "cell_type": "code",
   "execution_count": null,
   "metadata": {},
   "outputs": [],
   "source": []
  },
  {
   "cell_type": "code",
   "execution_count": null,
   "metadata": {},
   "outputs": [],
   "source": []
  }
 ],
 "metadata": {
  "kernelspec": {
   "display_name": "Python 3",
   "language": "python",
   "name": "python3"
  },
  "language_info": {
   "codemirror_mode": {
    "name": "ipython",
    "version": 3
   },
   "file_extension": ".py",
   "mimetype": "text/x-python",
   "name": "python",
   "nbconvert_exporter": "python",
   "pygments_lexer": "ipython3",
   "version": "3.12.8"
  }
 },
 "nbformat": 4,
 "nbformat_minor": 2
}
