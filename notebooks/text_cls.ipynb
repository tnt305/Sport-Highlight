{
 "cells": [
  {
   "cell_type": "code",
   "execution_count": 2,
   "metadata": {},
   "outputs": [
    {
     "name": "stderr",
     "output_type": "stream",
     "text": [
      "d:\\projects\\v2v\\v5\\.conda\\lib\\site-packages\\tqdm\\auto.py:21: TqdmWarning: IProgress not found. Please update jupyter and ipywidgets. See https://ipywidgets.readthedocs.io/en/stable/user_install.html\n",
      "  from .autonotebook import tqdm as notebook_tqdm\n"
     ]
    }
   ],
   "source": [
    "import pandas as pd\n",
    "import numpy as np\n",
    "from sklearn.model_selection import train_test_split\n",
    "from sklearn.preprocessing import MultiLabelBinarizer\n",
    "from transformers import BertTokenizer, BertForSequenceClassification, Trainer, TrainingArguments, AutoTokenizer, AutoModel\n",
    "import torch\n",
    "import torch.nn as nn\n",
    "import torch.nn.functional as F\n",
    "from torch.utils.data import Dataset, WeightedRandomSampler, DataLoader\n",
    "import os\n",
    "from typing import Dict, List, Optional, Union, Any, Tuple\n",
    "from torchmetrics.classification import MultilabelPrecision, MultilabelRecall, MultilabelF1Score, MultilabelAccuracy, MultilabelAveragePrecision"
   ]
  },
  {
   "cell_type": "code",
   "execution_count": 1,
   "metadata": {},
   "outputs": [
    {
     "name": "stdout",
     "output_type": "stream",
     "text": [
      "Số mẫu trong CSV: 8278\n",
      "0    [1, 7, 8, 10, 11]\n",
      "1               [8, 9]\n",
      "2                 [10]\n",
      "3             [10, 11]\n",
      "4               [8, 9]\n",
      "Name: label, dtype: object\n",
      "labels shape: (8278, 18)\n",
      "label classes: ['0' '1' '10' '11' '12' '13' '14' '15' '16' '17' '2' '3' '4' '5' '6' '7'\n",
      " '8' '9']\n"
     ]
    }
   ],
   "source": [
    "import pandas as pd\n",
    "from sklearn.preprocessing import MultiLabelBinarizer\n",
    "\n",
    "# Load the dataset\n",
    "data = pd.read_csv(\"text_only_classification_dataset.csv\")\n",
    "print(f\"Số mẫu trong CSV: {len(data)}\")\n",
    "\n",
    "# Clean the labels by stripping whitespace\n",
    "data['label'] = data['label'].apply(lambda x: [label.strip() for label in x.split(',')])\n",
    "print(data['label'].head())\n",
    "\n",
    "# Initialize MultiLabelBinarizer and transform the labels\n",
    "mlb = MultiLabelBinarizer()\n",
    "labels = mlb.fit_transform(data['label'])\n",
    "label_classes = mlb.classes_\n",
    "\n",
    "# Output the shape of the labels and the unique label classes\n",
    "print(f\"labels shape: {labels.shape}\")\n",
    "print(f\"label classes: {label_classes}\")\n"
   ]
  },
  {
   "cell_type": "code",
   "execution_count": 4,
   "metadata": {},
   "outputs": [
    {
     "data": {
      "text/plain": [
       "0       [1,  7,  8,  10,  11]\n",
       "1                     [8,  9]\n",
       "2                        [10]\n",
       "3                   [10,  11]\n",
       "4                     [8,  9]\n",
       "                ...          \n",
       "8273                     [17]\n",
       "8274          [5,  6,  7,  8]\n",
       "8275             [7,  8,  13]\n",
       "8276                      [8]\n",
       "8277             [7,  8,  13]\n",
       "Name: label, Length: 8278, dtype: object"
      ]
     },
     "execution_count": 4,
     "metadata": {},
     "output_type": "execute_result"
    }
   ],
   "source": [
    "data['label']"
   ]
  },
  {
   "cell_type": "code",
   "execution_count": null,
   "metadata": {},
   "outputs": [],
   "source": []
  },
  {
   "cell_type": "code",
   "execution_count": null,
   "metadata": {},
   "outputs": [],
   "source": []
  },
  {
   "cell_type": "code",
   "execution_count": null,
   "metadata": {},
   "outputs": [],
   "source": []
  },
  {
   "cell_type": "code",
   "execution_count": null,
   "metadata": {},
   "outputs": [],
   "source": []
  }
 ],
 "metadata": {
  "kernelspec": {
   "display_name": "Python 3",
   "language": "python",
   "name": "python3"
  },
  "language_info": {
   "codemirror_mode": {
    "name": "ipython",
    "version": 3
   },
   "file_extension": ".py",
   "mimetype": "text/x-python",
   "name": "python",
   "nbconvert_exporter": "python",
   "pygments_lexer": "ipython3",
   "version": "3.10.16"
  }
 },
 "nbformat": 4,
 "nbformat_minor": 2
}
