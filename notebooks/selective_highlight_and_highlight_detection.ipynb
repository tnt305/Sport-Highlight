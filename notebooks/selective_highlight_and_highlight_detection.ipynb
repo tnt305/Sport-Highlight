{
 "cells": [
  {
   "cell_type": "code",
   "execution_count": 1,
   "metadata": {},
   "outputs": [],
   "source": [
    "from typing import List\n",
    "import glob\n",
    "from src.models.video import TimeSformerInferencing\n",
    "from src.post_processing import process_football_events, cfg, concat_videos\n",
    "from src.preprocessing.video import normalize_path"
   ]
  },
  {
   "cell_type": "code",
   "execution_count": 2,
   "metadata": {},
   "outputs": [],
   "source": [
    "game, event2timestamp = process_football_events(json_path = \"D:\\\\projects\\\\v2v\\\\v5\\\\2015-11-07 - 18-00 Manchester United 2 - 0 West Brom_prediction.jsonl\", rank = cfg.rank)"
   ]
  },
  {
   "cell_type": "code",
   "execution_count": 7,
   "metadata": {},
   "outputs": [
    {
     "name": "stdout",
     "output_type": "stream",
     "text": [
      "(32, 33)\n",
      "Đã nối video thành công: Goal_32_33.mp4\n",
      "(51, 52)\n",
      "Đã nối video thành công: Goal_51_52.mp4\n",
      "(73, 74)\n",
      "Đã nối video thành công: Goal_73_74.mp4\n",
      "(89, 90)\n",
      "Đã nối video thành công: Goal_89_90.mp4\n",
      "80\n",
      "Đã nối video thành công: Cards_80.mp4\n",
      "0\n",
      "Đã nối video thành công: Foul_0.mp4\n",
      "(58, 59)\n",
      "Đã nối video thành công: Substitution_58_59.mp4\n",
      "(78, 79)\n",
      "Đã nối video thành công: Substitution_78_79.mp4\n",
      "16\n",
      "Đã nối video thành công: Shots_16.mp4\n",
      "21\n",
      "Đã nối video thành công: Shots_21.mp4\n",
      "(26, 27)\n",
      "Đã nối video thành công: Shots_26_27.mp4\n",
      "28\n",
      "Đã nối video thành công: Shots_28.mp4\n",
      "40\n",
      "Đã nối video thành công: Shots_40.mp4\n",
      "72\n",
      "Đã nối video thành công: Shots_72.mp4\n",
      "84\n",
      "Đã nối video thành công: Shots_84.mp4\n"
     ]
    }
   ],
   "source": [
    "# Selective video for videovideo\n",
    "\n",
    "basedir = \"F:/video_classification\"\n",
    "game_path = f\"{basedir}/{game}\"\n",
    "\n",
    "for event, timestamps in event2timestamp.items():\n",
    "    for timestamp in timestamps:\n",
    "        print(timestamp)\n",
    "        if isinstance(timestamp, tuple):\n",
    "            video1 = normalize_path(glob.glob(f\"{game_path}/chunk_{timestamp[0]}/visual/*.mp4\")[0])\n",
    "            video2 =  normalize_path(glob.glob(f\"{game_path}/chunk_{timestamp[1]}/visual/*.mp4\")[0])\n",
    "            \n",
    "            concat_videos([video1, video2], f\"{event}_{timestamp[0]}_{timestamp[1]}.mp4\")\n",
    "        elif isinstance(timestamp, int):\n",
    "            video = normalize_path(glob.glob(f\"{game_path}/chunk_{timestamp}/visual/*.mp4\")[0])\n",
    "            concat_videos([video], f\"{event}_{timestamp}.mp4\")\n",
    "        else:\n",
    "            pass"
   ]
  },
  {
   "cell_type": "code",
   "execution_count": null,
   "metadata": {},
   "outputs": [],
   "source": [
    "#### Highlight DetectionDetection"
   ]
  },
  {
   "cell_type": "code",
   "execution_count": 2,
   "metadata": {},
   "outputs": [
    {
     "name": "stdout",
     "output_type": "stream",
     "text": [
      "1076\n",
      "1527\n",
      "Frame 1301 nằm ở nửa sau video, giữ lại phần trước đến 48.49s. Kết quả: sample\\Cards_80_first_half.mp4\n",
      "Frame 1453 nằm ở nửa sau video, giữ lại phần trước đến 58.12s. Kết quả: sample\\Foul_0_first_half.mp4\n",
      "1716\n",
      "2550\n",
      "Frame 2133 nằm ở giữa video (frame 870-2237), giữ nguyên video. Kết quả: sample\\Goal_32_33_full.mp4\n",
      "1456\n",
      "2264\n",
      "Frame 1860 nằm ở giữa video (frame 918-2359), giữ nguyên video. Kết quả: sample\\Goal_51_52_full.mp4\n",
      "203\n",
      "1619\n",
      "Frame 911 nằm ở giữa video (frame 892-2293), giữ nguyên video. Kết quả: sample\\Goal_73_74_full.mp4\n",
      "2219\n",
      "3008\n",
      "Frame 2613 nằm ở nửa sau video, giữ lại phần trước đến 95.33s. Kết quả: sample\\Goal_89_90_first_half.mp4\n",
      "798\n",
      "1434\n",
      "Frame 1116 nằm ở nửa sau video, giữ lại phần trước đến 44.69s. Kết quả: sample\\Shots_16_first_half.mp4\n",
      "273\n",
      "877\n",
      "Frame 575 nằm ở giữa video (frame 459-1182), giữ nguyên video. Kết quả: sample\\Shots_21_full.mp4\n",
      "1175\n",
      "3013\n",
      "Frame 2094 nằm ở giữa video (frame 865-2226), giữ nguyên video. Kết quả: sample\\Shots_26_27_full.mp4\n",
      "Frame 1524 nằm ở nửa sau video, giữ lại phần trước đến 58.79s. Kết quả: sample\\Shots_28_first_half.mp4\n",
      "797\n",
      "1203\n",
      "Frame 1000 nằm ở giữa video (frame 427-1097), giữ nguyên video. Kết quả: sample\\Shots_40_full.mp4\n",
      "483\n",
      "1528\n",
      "Frame 1005 nằm ở giữa video (frame 445-1145), giữ nguyên video. Kết quả: sample\\Shots_72_full.mp4\n",
      "Frame 1528 nằm ở nửa sau video, giữ lại phần trước đến 59.21s. Kết quả: sample\\Shots_84_first_half.mp4\n",
      "1127\n",
      "1622\n",
      "Frame 1374 nằm ở giữa video (frame 946-2431), giữ nguyên video. Kết quả: sample\\Substitution_58_59_full.mp4\n",
      "1618\n",
      "3007\n",
      "Frame 2312 nằm ở giữa video (frame 919-2364), giữ nguyên video. Kết quả: sample\\Substitution_78_79_full.mp4\n"
     ]
    }
   ],
   "source": [
    "import matplotlib.pyplot as plt\n",
    "import numpy as np\n",
    "import skvideo.measure\n",
    "import cv2\n",
    "import skvideo.io\n",
    "import os\n",
    "\n",
    "from src.post_processing.utils import filter_highlight_scenes, concat_videos, cut_video_by_frame\n",
    "np.float = float    \n",
    "np.int = int   #module 'numpy' has no attribute 'int'\n",
    "np.object = object    #module 'numpy' has no attribute 'object'\n",
    "np.bool = bool \n",
    "\n",
    "filelist = [f\"sample/{i}\" for i in os.listdir(\"sample\")]\n",
    "for filename in filelist:\n",
    "    videodata = skvideo.io.vread(filename)\n",
    "    videometadata = skvideo.io.ffprobe(filename)\n",
    "    frame_rate = videometadata['video']['@avg_frame_rate']\n",
    "    num_frames = cv2.VideoCapture(filename).get(cv2.CAP_PROP_FRAME_COUNT)\n",
    "    width = int(videometadata['video']['@width'])\n",
    "    height = int(videometadata['video']['@height'])\n",
    "    scene_lum_idx = skvideo.measure.scenedet(videodata, method='histogram', parameter1=1.0)\n",
    "    \n",
    "    frame_cut = filter_highlight_scenes(scene_lum_idx)\n",
    "    cut_video_by_frame(video_path = filename, frame_position = frame_cut, middle_threshold= 0.22)"
   ]
  },
  {
   "cell_type": "code",
   "execution_count": 4,
   "metadata": {},
   "outputs": [
    {
     "data": {
      "text/plain": [
       "['Cards_80_first_half.mp4',\n",
       " 'Foul_0_first_half.mp4',\n",
       " 'Goal_32_33_full.mp4',\n",
       " 'Goal_51_52_full.mp4',\n",
       " 'Goal_73_74_full.mp4',\n",
       " 'Goal_89_90_first_half.mp4',\n",
       " 'Shots_16_first_half.mp4',\n",
       " 'Shots_21_full.mp4',\n",
       " 'Shots_26_27_full.mp4',\n",
       " 'Shots_28_first_half.mp4',\n",
       " 'Shots_40_full.mp4',\n",
       " 'Shots_72_full.mp4',\n",
       " 'Shots_84_first_half.mp4',\n",
       " 'Substitution_58_59_full.mp4',\n",
       " 'Substitution_78_79_full.mp4']"
      ]
     },
     "execution_count": 4,
     "metadata": {},
     "output_type": "execute_result"
    }
   ],
   "source": [
    "sorted(os.listdir(\"D:\\\\projects\\\\v2v\\\\v5\\\\sample\\\\refined\"))"
   ]
  },
  {
   "cell_type": "code",
   "execution_count": 6,
   "metadata": {},
   "outputs": [
    {
     "data": {
      "text/plain": [
       "['D:/projects/v2v/v5/sample/refined/Cards_80_first_half.mp4',\n",
       " 'D:/projects/v2v/v5/sample/refined/Foul_0_first_half.mp4',\n",
       " 'D:/projects/v2v/v5/sample/refined/Goal_32_33_full.mp4',\n",
       " 'D:/projects/v2v/v5/sample/refined/Goal_51_52_full.mp4',\n",
       " 'D:/projects/v2v/v5/sample/refined/Goal_73_74_full.mp4',\n",
       " 'D:/projects/v2v/v5/sample/refined/Goal_89_90_first_half.mp4',\n",
       " 'D:/projects/v2v/v5/sample/refined/Shots_16_first_half.mp4',\n",
       " 'D:/projects/v2v/v5/sample/refined/Shots_21_full.mp4',\n",
       " 'D:/projects/v2v/v5/sample/refined/Shots_26_27_full.mp4',\n",
       " 'D:/projects/v2v/v5/sample/refined/Shots_28_first_half.mp4',\n",
       " 'D:/projects/v2v/v5/sample/refined/Shots_40_full.mp4',\n",
       " 'D:/projects/v2v/v5/sample/refined/Shots_72_full.mp4',\n",
       " 'D:/projects/v2v/v5/sample/refined/Shots_84_first_half.mp4',\n",
       " 'D:/projects/v2v/v5/sample/refined/Substitution_58_59_full.mp4',\n",
       " 'D:/projects/v2v/v5/sample/refined/Substitution_78_79_full.mp4']"
      ]
     },
     "execution_count": 6,
     "metadata": {},
     "output_type": "execute_result"
    }
   ],
   "source": [
    "from src.preprocessing.video import normalize_path\n",
    "basedir = \"D:\\\\projects\\\\v2v\\\\v5\\\\sample\\\\refined\"\n",
    "[normalize_path(f\"{basedir}/{i}\") for i in os.listdir(basedir)]"
   ]
  },
  {
   "cell_type": "code",
   "execution_count": 7,
   "metadata": {},
   "outputs": [
    {
     "name": "stdout",
     "output_type": "stream",
     "text": [
      "Đã ghép nối 15 video thành công! Kết quả: output_merged.mp4\n"
     ]
    }
   ],
   "source": [
    "import os\n",
    "import subprocess\n",
    "from pathlib import Path\n",
    "\n",
    "def merge_videos(video_list, output_path, method=\"concat\"):\n",
    "    \"\"\"\n",
    "    Ghép nối nhiều video theo thứ tự trong danh sách.\n",
    "    \n",
    "    Args:\n",
    "        video_list (list): Danh sách đường dẫn đến các video cần ghép nối\n",
    "        output_path (str): Đường dẫn đến file video đầu ra\n",
    "        method (str): Phương pháp ghép nối, \"concat\" hoặc \"filter_complex\"\n",
    "    \n",
    "    Returns:\n",
    "        str: Đường dẫn đến video đã ghép nối\n",
    "    \"\"\"\n",
    "    if not video_list:\n",
    "        raise ValueError(\"Danh sách video trống!\")\n",
    "    \n",
    "    # Kiểm tra tất cả các video có tồn tại không\n",
    "    for video in video_list:\n",
    "        if not os.path.exists(video):\n",
    "            raise FileNotFoundError(f\"Không tìm thấy file video: {video}\")\n",
    "    \n",
    "    if method == \"concat\":\n",
    "        # Phương pháp 1: Sử dụng file danh sách (tốt nhất cho video cùng codec)\n",
    "        filelist_path = \"temp_filelist.txt\"\n",
    "        \n",
    "        with open(filelist_path, \"w\", encoding=\"utf-8\") as f:\n",
    "            for video in video_list:\n",
    "                # Sử dụng đường dẫn tuyệt đối và escape ký tự đặc biệt\n",
    "                abs_path = os.path.abspath(video).replace(\"\\\\\", \"/\")\n",
    "                f.write(f\"file '{abs_path}'\\n\")\n",
    "        \n",
    "        cmd = f'ffmpeg -f concat -safe 0 -i \"{filelist_path}\" -c copy \"{output_path}\"'\n",
    "        \n",
    "        try:\n",
    "            subprocess.run(cmd, shell=True, check=True)\n",
    "            print(f\"Đã ghép nối {len(video_list)} video thành công! Kết quả: {output_path}\")\n",
    "        except subprocess.CalledProcessError as e:\n",
    "            print(f\"Lỗi khi ghép nối video: {e}\")\n",
    "            return None\n",
    "        finally:\n",
    "            # Xóa file tạm\n",
    "            if os.path.exists(filelist_path):\n",
    "                os.remove(filelist_path)\n",
    "    \n",
    "    elif method == \"filter_complex\":\n",
    "        # Phương pháp 2: Sử dụng filter_complex (cho video khác codec)\n",
    "        inputs = \"\"\n",
    "        filter_complex = \"\"\n",
    "        \n",
    "        for i, video in enumerate(video_list):\n",
    "            inputs += f' -i \"{video}\"'\n",
    "            filter_complex += f\"[{i}:v:0][{i}:a:0]\"\n",
    "        \n",
    "        filter_complex += f\"concat=n={len(video_list)}:v=1:a=1[outv][outa]\"\n",
    "        cmd = f'ffmpeg{inputs} -filter_complex \"{filter_complex}\" -map \"[outv]\" -map \"[outa]\" \"{output_path}\"'\n",
    "        \n",
    "        try:\n",
    "            subprocess.run(cmd, shell=True, check=True)\n",
    "            print(f\"Đã ghép nối {len(video_list)} video thành công! Kết quả: {output_path}\")\n",
    "        except subprocess.CalledProcessError as e:\n",
    "            print(f\"Lỗi khi ghép nối video: {e}\")\n",
    "            return None\n",
    "    \n",
    "    else:\n",
    "        raise ValueError(\"Phương pháp không hợp lệ! Chỉ hỗ trợ 'concat' hoặc 'filter_complex'\")\n",
    "    \n",
    "    return output_path\n",
    "\n",
    "# Ví dụ sử dụng\n",
    "video_list = [\n",
    "    'D:/projects/v2v/v5/sample/refined/Foul_0_first_half.mp4',\n",
    "    'D:/projects/v2v/v5/sample/refined/Shots_16_first_half.mp4',\n",
    "    'D:/projects/v2v/v5/sample/refined/Shots_21_full.mp4',\n",
    "    'D:/projects/v2v/v5/sample/refined/Shots_26_27_full.mp4',\n",
    "    'D:/projects/v2v/v5/sample/refined/Shots_28_first_half.mp4',\n",
    "    'D:/projects/v2v/v5/sample/refined/Goal_32_33_full.mp4',\n",
    "    'D:/projects/v2v/v5/sample/refined/Shots_40_full.mp4',\n",
    "    'D:/projects/v2v/v5/sample/refined/Goal_51_52_full.mp4',\n",
    "    'D:/projects/v2v/v5/sample/refined/Substitution_58_59_full.mp4',\n",
    "    'D:/projects/v2v/v5/sample/refined/Cards_80_first_half.mp4',\n",
    "    'D:/projects/v2v/v5/sample/refined/Shots_72_full.mp4',\n",
    "    'D:/projects/v2v/v5/sample/refined/Goal_73_74_full.mp4',\n",
    "    'D:/projects/v2v/v5/sample/refined/Substitution_78_79_full.mp4',\n",
    "    'D:/projects/v2v/v5/sample/refined/Shots_84_first_half.mp4',\n",
    "    'D:/projects/v2v/v5/sample/refined/Goal_89_90_first_half.mp4'\n",
    "]\n",
    "\n",
    "# Ghép nối sử dụng phương pháp concat (nhanh, giữ nguyên chất lượng)\n",
    "merged_video = merge_videos(video_list, \"output_merged.mp4\", method=\"concat\")\n",
    "\n",
    "# Nếu có lỗi với phương pháp concat (ví dụ: codec khác nhau), thử phương pháp filter_complex\n",
    "if not merged_video:\n",
    "    merge_videos(video_list, \"output_merged.mp4\", method=\"filter_complex\")\n"
   ]
  }
 ],
 "metadata": {
  "kernelspec": {
   "display_name": "Python 3",
   "language": "python",
   "name": "python3"
  },
  "language_info": {
   "codemirror_mode": {
    "name": "ipython",
    "version": 3
   },
   "file_extension": ".py",
   "mimetype": "text/x-python",
   "name": "python",
   "nbconvert_exporter": "python",
   "pygments_lexer": "ipython3",
   "version": "3.12.8"
  }
 },
 "nbformat": 4,
 "nbformat_minor": 2
}
