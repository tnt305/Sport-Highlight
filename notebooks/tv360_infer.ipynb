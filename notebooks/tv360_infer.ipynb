{
 "cells": [
  {
   "cell_type": "code",
   "execution_count": 1,
   "metadata": {},
   "outputs": [
    {
     "data": {
      "text/plain": [
       "'D:/projects/v2v/v5/tv360/gir_vs_feynord'"
      ]
     },
     "execution_count": 1,
     "metadata": {},
     "output_type": "execute_result"
    }
   ],
   "source": [
    "# Define the target directory\n",
    "import os\n",
    "from src.preprocessing.video import normalize_path\n",
    "\n",
    "target_directory = \"D:\\\\projects\\\\v2v\\\\v5\\\\tv360\\\\\"\n",
    "\n",
    "def has_exactly_two_mkv_files(directory):\n",
    "    count = 0\n",
    "    with os.scandir(directory) as entries:\n",
    "        for entry in entries:\n",
    "            # Check if the current entry is a file and ends with \".mkv\"\n",
    "            if entry.is_file() and (entry.name.endswith(\".mkv\") or entry.name.endswith(\".mp4\")):\n",
    "                count += 1\n",
    "                # Exit early if more than two such files are found\n",
    "                if count > 2:\n",
    "                    return False\n",
    "    return count == 2\n",
    "\n",
    "def list_end_directories(path):\n",
    "    \"\"\"\n",
    "    Recursively traverse a directory and return all paths that are files (end of branch).\n",
    "    \"\"\"\n",
    "    end_files = []\n",
    "    for root, _, files in os.walk(path):\n",
    "        for file in files:\n",
    "            if file.startswith('SoccerNetV2'):                \n",
    "                pass\n",
    "            else:\n",
    "                refined_path = normalize_path(os.path.join(root, file))\n",
    "                # print(refined_path)\n",
    "                # if has_exactly_two_mkv_files(refined_path):\n",
    "                end_files.append(refined_path)\n",
    "    end_files = [\"/\".join(file.split(\"/\")[:-1]) for file in end_files]\n",
    "    end_files = [item for item in end_files if has_exactly_two_mkv_files(item)] \n",
    "    end_files = sorted(list(set(end_files)))\n",
    "    return end_files\n",
    "end_files = list_end_directories(target_directory)\n",
    "end_files[0]"
   ]
  },
  {
   "cell_type": "code",
   "execution_count": 2,
   "metadata": {},
   "outputs": [],
   "source": [
    "\n",
    "import os\n",
    "from src.preprocessing.video import VideoProcessor, VideoProcessorConfig\n",
    "import shutil\n",
    "from tqdm import tqdm\n",
    "from concurrent.futures import ThreadPoolExecutor\n",
    "from src.preprocessing.video import normalize_path\n",
    "\n",
    "def process_soccernet(vid: str):\n",
    "    config = VideoProcessorConfig(input_file = f\"{vid}/1_224p.mp4\",\n",
    "                                segment_duration = 60,\n",
    "                                base_output_dir= 'D:/projects/v2v/v5/tv360/video_classification',\n",
    "                                output_dir = '1_224p.mp4',\n",
    "                                session = 'first_half',\n",
    "                                overlapping = 30, \n",
    "                                frame_interval = 1)\n",
    "    video_splitter = VideoProcessor(config = config)\n",
    "    video_splitter.chunk_video(do_sep = True)\n",
    "    game_name = vid.split(\"/\")[-1]\n",
    "    new_game_path = os.path.join(config.base_output_dir, game_name)\n",
    "    game_chunk_paths = sorted(\n",
    "        [\n",
    "            os.path.join(new_game_path, i, 'frames')\n",
    "            for i in os.listdir(new_game_path)\n",
    "            if not i.endswith('.json')\n",
    "        ]\n",
    "    )\n",
    "    for item in game_chunk_paths:\n",
    "        if len(os.listdir(item)) <10:\n",
    "            parent_dir = os.path.dirname(item)\n",
    "            shutil.rmtree(parent_dir)\n",
    "\n",
    "    return new_game_path\n",
    "\n",
    "vidv2 = end_files[0]\n",
    "process_soccernet(normalize_path(vidv2))\n"
   ]
  },
  {
   "cell_type": "code",
   "execution_count": 5,
   "metadata": {},
   "outputs": [
    {
     "name": "stderr",
     "output_type": "stream",
     "text": [
      "Some weights of TimesformerModel were not initialized from the model checkpoint at fcakyon/timesformer-large-finetuned-k400 and are newly initialized because the shapes did not match:\n",
      "- timesformer.embeddings.time_embeddings: found shape torch.Size([1, 96, 768]) in the checkpoint and torch.Size([1, 30, 768]) in the model instantiated\n",
      "You should probably TRAIN this model on a down-stream task to be able to use it for predictions and inference.\n",
      "  0%|          | 0/99 [00:00<?, ?it/s]`use_fast` is set to `True` but the image processor class does not have a fast version.  Falling back to the slow version.\n",
      "100%|██████████| 99/99 [02:23<00:00,  1.45s/it]\n"
     ]
    }
   ],
   "source": [
    "from typing import List\n",
    "import glob\n",
    "from src.models.video import TimeSformerInferencing\n",
    "from src.post_processing import process_football_events, cfg\n",
    "from src.post_processing.utils import concat_videos\n",
    "from src.preprocessing.video import normalize_path\n",
    "\n",
    "from src.models.video import TimeSformerInferencing\n",
    "from src.post_processing.utils import read_json, joint_event\n",
    "from typing import List\n",
    "inferencing =TimeSformerInferencing(\n",
    "    num_frames= 30,\n",
    "    num_classes = 17,\n",
    "    game_name = 'tv360/video_classification/gir_vs_feynord',\n",
    "    image_extractor=\"fcakyon/timesformer-large-finetuned-k400\",\n",
    "    checkpoint = './ds_tv360_model_timesformer_nepochs_2_nframes_30.pth')\n",
    "\n",
    "results = inferencing.run(method='from_middle', spacing = 30)"
   ]
  },
  {
   "cell_type": "code",
   "execution_count": 6,
   "metadata": {},
   "outputs": [
    {
     "data": {
      "text/plain": [
       "'gir_vs_feynord_prediction.jsonl'"
      ]
     },
     "execution_count": 6,
     "metadata": {},
     "output_type": "execute_result"
    }
   ],
   "source": [
    "results"
   ]
  },
  {
   "cell_type": "code",
   "execution_count": 7,
   "metadata": {},
   "outputs": [],
   "source": [
    "game, event2timestamp = process_football_events(json_path = \"./gir_vs_feynord_prediction.jsonl\", rank = cfg.rank)"
   ]
  },
  {
   "cell_type": "code",
   "execution_count": 9,
   "metadata": {},
   "outputs": [
    {
     "data": {
      "text/plain": [
       "{'Goal': [(22, 23),\n",
       "  (35, 36),\n",
       "  (50, 51),\n",
       "  (68, 69),\n",
       "  (75, 76),\n",
       "  (80, 81),\n",
       "  (88, 89),\n",
       "  (97, 98)],\n",
       " 'Penalty': [],\n",
       " 'Cards': [62],\n",
       " 'Foul': [5, 25],\n",
       " 'Substitution': [(24, 26), (77, 78)],\n",
       " 'Shots': [9, (17, 18), 46, 67, 79]}"
      ]
     },
     "execution_count": 9,
     "metadata": {},
     "output_type": "execute_result"
    }
   ],
   "source": [
    "event2timestamp"
   ]
  },
  {
   "cell_type": "code",
   "execution_count": 15,
   "metadata": {},
   "outputs": [
    {
     "name": "stdout",
     "output_type": "stream",
     "text": [
      "['D:/projects/v2v/v5/tv360/video_classification/gir_vs_feynord/chunk_22\\\\video_22_start_1320_end_1380.mp4']\n",
      "Đã nối video thành công: Goal_22_23.mp4\n",
      "['D:/projects/v2v/v5/tv360/video_classification/gir_vs_feynord/chunk_35\\\\video_35_start_2100_end_2160.mp4']\n",
      "Đã nối video thành công: Goal_35_36.mp4\n",
      "['D:/projects/v2v/v5/tv360/video_classification/gir_vs_feynord/chunk_50\\\\video_50_start_168_end_228.mp4']\n",
      "Đã nối video thành công: Goal_50_51.mp4\n",
      "['D:/projects/v2v/v5/tv360/video_classification/gir_vs_feynord/chunk_68\\\\video_68_start_1248_end_1308.mp4']\n",
      "Đã nối video thành công: Goal_68_69.mp4\n",
      "['D:/projects/v2v/v5/tv360/video_classification/gir_vs_feynord/chunk_75\\\\video_75_start_1668_end_1728.mp4']\n",
      "Đã nối video thành công: Goal_75_76.mp4\n",
      "['D:/projects/v2v/v5/tv360/video_classification/gir_vs_feynord/chunk_80\\\\video_80_start_1968_end_2028.mp4']\n",
      "Đã nối video thành công: Goal_80_81.mp4\n",
      "['D:/projects/v2v/v5/tv360/video_classification/gir_vs_feynord/chunk_88\\\\video_88_start_2448_end_2508.mp4']\n",
      "Đã nối video thành công: Goal_88_89.mp4\n",
      "['D:/projects/v2v/v5/tv360/video_classification/gir_vs_feynord/chunk_97\\\\video_97_start_2988_end_3048.mp4']\n",
      "Đã nối video thành công: Goal_97_98.mp4\n",
      "Đã nối video thành công: Cards_62.mp4\n",
      "Đã nối video thành công: Foul_5.mp4\n",
      "Đã nối video thành công: Foul_25.mp4\n",
      "['D:/projects/v2v/v5/tv360/video_classification/gir_vs_feynord/chunk_24\\\\video_24_start_1440_end_1500.mp4']\n",
      "Đã nối video thành công: Substitution_24_26.mp4\n",
      "['D:/projects/v2v/v5/tv360/video_classification/gir_vs_feynord/chunk_77\\\\video_77_start_1788_end_1848.mp4']\n",
      "Đã nối video thành công: Substitution_77_78.mp4\n",
      "Đã nối video thành công: Shots_9.mp4\n",
      "['D:/projects/v2v/v5/tv360/video_classification/gir_vs_feynord/chunk_17\\\\video_17_start_1020_end_1080.mp4']\n",
      "Đã nối video thành công: Shots_17_18.mp4\n",
      "Đã nối video thành công: Shots_46.mp4\n",
      "Đã nối video thành công: Shots_67.mp4\n",
      "Đã nối video thành công: Shots_79.mp4\n"
     ]
    }
   ],
   "source": [
    "basedir = \"D:/projects/v2v/v5/tv360/video_classification\"\n",
    "game_path = f\"{basedir}/{game}\"\n",
    "for event, timestamps in event2timestamp.items():\n",
    "    for timestamp in timestamps:\n",
    "        if isinstance(timestamp, tuple):\n",
    "            print(glob.glob(f\"{game_path}/chunk_{timestamp[0]}/*.mp4\"))\n",
    "            video1 = normalize_path(glob.glob(f\"{game_path}/chunk_{timestamp[0]}/*.mp4\")[0])\n",
    "            video2 =  normalize_path(glob.glob(f\"{game_path}/chunk_{timestamp[1]}/*.mp4\")[0])\n",
    "            \n",
    "            concat_videos([video1, video2], f\"{event}_{timestamp[0]}_{timestamp[1]}.mp4\")\n",
    "        elif isinstance(timestamp, int):\n",
    "            video = normalize_path(glob.glob(f\"{game_path}/chunk_{timestamp}/*.mp4\")[0])\n",
    "            concat_videos([video], f\"{event}_{timestamp}.mp4\")\n",
    "        else:\n",
    "            pass"
   ]
  },
  {
   "cell_type": "code",
   "execution_count": 19,
   "metadata": {},
   "outputs": [
    {
     "name": "stderr",
     "output_type": "stream",
     "text": [
      "  5%|▌         | 1/19 [00:02<00:44,  2.47s/it]"
     ]
    },
    {
     "name": "stdout",
     "output_type": "stream",
     "text": [
      "Successfully resized D:/projects/v2v/v5/tv360/result/Cards_62.mp4 to 224p\n"
     ]
    },
    {
     "name": "stderr",
     "output_type": "stream",
     "text": [
      " 11%|█         | 2/19 [00:04<00:42,  2.47s/it]"
     ]
    },
    {
     "name": "stdout",
     "output_type": "stream",
     "text": [
      "Successfully resized D:/projects/v2v/v5/tv360/result/Foul_25.mp4 to 224p\n"
     ]
    },
    {
     "name": "stderr",
     "output_type": "stream",
     "text": [
      " 16%|█▌        | 3/19 [00:07<00:39,  2.45s/it]"
     ]
    },
    {
     "name": "stdout",
     "output_type": "stream",
     "text": [
      "Successfully resized D:/projects/v2v/v5/tv360/result/Foul_5.mp4 to 224p\n"
     ]
    },
    {
     "name": "stderr",
     "output_type": "stream",
     "text": [
      " 21%|██        | 4/19 [00:12<00:49,  3.33s/it]"
     ]
    },
    {
     "name": "stdout",
     "output_type": "stream",
     "text": [
      "Successfully resized D:/projects/v2v/v5/tv360/result/Goal_22_23.mp4 to 224p\n"
     ]
    },
    {
     "name": "stderr",
     "output_type": "stream",
     "text": [
      " 26%|██▋       | 5/19 [00:17<00:55,  3.93s/it]"
     ]
    },
    {
     "name": "stdout",
     "output_type": "stream",
     "text": [
      "Successfully resized D:/projects/v2v/v5/tv360/result/Goal_35_36.mp4 to 224p\n"
     ]
    },
    {
     "name": "stderr",
     "output_type": "stream",
     "text": [
      " 32%|███▏      | 6/19 [00:21<00:55,  4.24s/it]"
     ]
    },
    {
     "name": "stdout",
     "output_type": "stream",
     "text": [
      "Successfully resized D:/projects/v2v/v5/tv360/result/Goal_50_51.mp4 to 224p\n"
     ]
    },
    {
     "name": "stderr",
     "output_type": "stream",
     "text": [
      " 37%|███▋      | 7/19 [00:26<00:53,  4.46s/it]"
     ]
    },
    {
     "name": "stdout",
     "output_type": "stream",
     "text": [
      "Successfully resized D:/projects/v2v/v5/tv360/result/Goal_68_69.mp4 to 224p\n"
     ]
    },
    {
     "name": "stderr",
     "output_type": "stream",
     "text": [
      " 42%|████▏     | 8/19 [00:31<00:50,  4.58s/it]"
     ]
    },
    {
     "name": "stdout",
     "output_type": "stream",
     "text": [
      "Successfully resized D:/projects/v2v/v5/tv360/result/Goal_75_76.mp4 to 224p\n"
     ]
    },
    {
     "name": "stderr",
     "output_type": "stream",
     "text": [
      " 47%|████▋     | 9/19 [00:36<00:46,  4.66s/it]"
     ]
    },
    {
     "name": "stdout",
     "output_type": "stream",
     "text": [
      "Successfully resized D:/projects/v2v/v5/tv360/result/Goal_80_81.mp4 to 224p\n"
     ]
    },
    {
     "name": "stderr",
     "output_type": "stream",
     "text": [
      " 53%|█████▎    | 10/19 [00:41<00:42,  4.73s/it]"
     ]
    },
    {
     "name": "stdout",
     "output_type": "stream",
     "text": [
      "Successfully resized D:/projects/v2v/v5/tv360/result/Goal_88_89.mp4 to 224p\n"
     ]
    },
    {
     "name": "stderr",
     "output_type": "stream",
     "text": [
      " 58%|█████▊    | 11/19 [00:46<00:38,  4.78s/it]"
     ]
    },
    {
     "name": "stdout",
     "output_type": "stream",
     "text": [
      "Successfully resized D:/projects/v2v/v5/tv360/result/Goal_97_98.mp4 to 224p\n"
     ]
    },
    {
     "name": "stderr",
     "output_type": "stream",
     "text": [
      " 63%|██████▎   | 12/19 [00:50<00:33,  4.77s/it]"
     ]
    },
    {
     "name": "stdout",
     "output_type": "stream",
     "text": [
      "Successfully resized D:/projects/v2v/v5/tv360/result/Shots_17_18.mp4 to 224p\n"
     ]
    },
    {
     "name": "stderr",
     "output_type": "stream",
     "text": [
      " 68%|██████▊   | 13/19 [00:53<00:24,  4.10s/it]"
     ]
    },
    {
     "name": "stdout",
     "output_type": "stream",
     "text": [
      "Successfully resized D:/projects/v2v/v5/tv360/result/Shots_46.mp4 to 224p\n"
     ]
    },
    {
     "name": "stderr",
     "output_type": "stream",
     "text": [
      " 74%|███████▎  | 14/19 [00:56<00:18,  3.67s/it]"
     ]
    },
    {
     "name": "stdout",
     "output_type": "stream",
     "text": [
      "Successfully resized D:/projects/v2v/v5/tv360/result/Shots_67.mp4 to 224p\n"
     ]
    },
    {
     "name": "stderr",
     "output_type": "stream",
     "text": [
      " 79%|███████▉  | 15/19 [00:58<00:13,  3.34s/it]"
     ]
    },
    {
     "name": "stdout",
     "output_type": "stream",
     "text": [
      "Successfully resized D:/projects/v2v/v5/tv360/result/Shots_79.mp4 to 224p\n"
     ]
    },
    {
     "name": "stderr",
     "output_type": "stream",
     "text": [
      " 84%|████████▍ | 16/19 [01:01<00:09,  3.08s/it]"
     ]
    },
    {
     "name": "stdout",
     "output_type": "stream",
     "text": [
      "Successfully resized D:/projects/v2v/v5/tv360/result/Shots_9.mp4 to 224p\n"
     ]
    },
    {
     "name": "stderr",
     "output_type": "stream",
     "text": [
      " 89%|████████▉ | 17/19 [01:06<00:07,  3.59s/it]"
     ]
    },
    {
     "name": "stdout",
     "output_type": "stream",
     "text": [
      "Successfully resized D:/projects/v2v/v5/tv360/result/Substitution_24_26.mp4 to 224p\n"
     ]
    },
    {
     "name": "stderr",
     "output_type": "stream",
     "text": [
      "100%|██████████| 19/19 [01:11<00:00,  3.74s/it]"
     ]
    },
    {
     "name": "stdout",
     "output_type": "stream",
     "text": [
      "Successfully resized D:/projects/v2v/v5/tv360/result/Substitution_77_78.mp4 to 224p\n",
      "Error processing D:/projects/v2v/v5/tv360/result/tempt: ffmpeg version 7.1-essentials_build-www.gyan.dev Copyright (c) 2000-2024 the FFmpeg developers\n",
      "  built with gcc 14.2.0 (Rev1, Built by MSYS2 project)\n",
      "  configuration: --enable-gpl --enable-version3 --enable-static --disable-w32threads --disable-autodetect --enable-fontconfig --enable-iconv --enable-gnutls --enable-libxml2 --enable-gmp --enable-bzlib --enable-lzma --enable-zlib --enable-libsrt --enable-libssh --enable-libzmq --enable-avisynth --enable-sdl2 --enable-libwebp --enable-libx264 --enable-libx265 --enable-libxvid --enable-libaom --enable-libopenjpeg --enable-libvpx --enable-mediafoundation --enable-libass --enable-libfreetype --enable-libfribidi --enable-libharfbuzz --enable-libvidstab --enable-libvmaf --enable-libzimg --enable-amf --enable-cuda-llvm --enable-cuvid --enable-dxva2 --enable-d3d11va --enable-d3d12va --enable-ffnvcodec --enable-libvpl --enable-nvdec --enable-nvenc --enable-vaapi --enable-libgme --enable-libopenmpt --enable-libopencore-amrwb --enable-libmp3lame --enable-libtheora --enable-libvo-amrwbenc --enable-libgsm --enable-libopencore-amrnb --enable-libopus --enable-libspeex --enable-libvorbis --enable-librubberband\n",
      "  libavutil      59. 39.100 / 59. 39.100\n",
      "  libavcodec     61. 19.100 / 61. 19.100\n",
      "  libavformat    61.  7.100 / 61.  7.100\n",
      "  libavdevice    61.  3.100 / 61.  3.100\n",
      "  libavfilter    10.  4.100 / 10.  4.100\n",
      "  libswscale      8.  3.100 /  8.  3.100\n",
      "  libswresample   5.  3.100 /  5.  3.100\n",
      "  libpostproc    58.  3.100 / 58.  3.100\n",
      "[in#0 @ 00000209b7bff900] Error opening input: Permission denied\n",
      "Error opening input file D:/projects/v2v/v5/tv360/result/tempt.\n",
      "Error opening input files: Permission denied\n",
      "\n"
     ]
    },
    {
     "name": "stderr",
     "output_type": "stream",
     "text": [
      "\n"
     ]
    }
   ],
   "source": [
    "import subprocess\n",
    "import os\n",
    "import glob\n",
    "\n",
    "def resize_video(input_path, output_path, height=224):\n",
    "    \"\"\"Resize a single video file\"\"\"\n",
    "    try:\n",
    "        # Ensure the output directory exists\n",
    "        os.makedirs(os.path.dirname(os.path.abspath(output_path)), exist_ok=True)\n",
    "        \n",
    "        ffmpeg_cmd = [\n",
    "            'ffmpeg',\n",
    "            '-i', input_path,\n",
    "            '-vf', f'scale=-1:{height}',\n",
    "            '-c:v', 'libx264',\n",
    "            '-crf', '18',\n",
    "            '-preset', 'medium',\n",
    "            '-c:a', 'copy',\n",
    "            output_path\n",
    "        ]\n",
    "        \n",
    "        process = subprocess.run(\n",
    "            ffmpeg_cmd,\n",
    "            stdout=subprocess.PIPE,\n",
    "            stderr=subprocess.PIPE,\n",
    "            text=True\n",
    "        )\n",
    "        \n",
    "        if process.returncode != 0:\n",
    "            print(f\"Error processing {input_path}: {process.stderr}\")\n",
    "            return False\n",
    "        \n",
    "        print(f\"Successfully resized {input_path} to {height}p\")\n",
    "        return True\n",
    "        \n",
    "    except Exception as e:\n",
    "        print(f\"An error occurred with {input_path}: {str(e)}\")\n",
    "        return False\n",
    "\n",
    "def batch_resize_videos(input_dir, output_dir, pattern=\"*.mp4\", height=224):\n",
    "    \"\"\"Resize all videos matching pattern in input_dir and save to output_dir\"\"\"\n",
    "    # Create output directory if it doesn't exist\n",
    "    os.makedirs(output_dir, exist_ok=True)\n",
    "    \n",
    "    # Find all matching video files\n",
    "    video_files = glob.glob(os.path.join(input_dir, pattern))\n",
    "    \n",
    "    if not video_files:\n",
    "        print(f\"No files matching {pattern} found in {input_dir}\")\n",
    "        return\n",
    "    \n",
    "    print(f\"Found {len(video_files)} videos to process\")\n",
    "    \n",
    "    # Process each video\n",
    "    success_count = 0\n",
    "    for input_path in video_files:\n",
    "        filename = os.path.basename(input_path)\n",
    "        output_filename = f\"{os.path.splitext(filename)[0]}_{height}p{os.path.splitext(filename)[1]}\"\n",
    "        output_path = os.path.join(output_dir, output_filename)\n",
    "        \n",
    "        if resize_video(input_path, output_path, height):\n",
    "            success_count += 1\n",
    "    \n",
    "    print(f\"Completed: {success_count}/{len(video_files)} videos successfully resized\")\n",
    "    \n",
    "filelist = [f\"D:/projects/v2v/v5/tv360/result/{i}\" for i in os.listdir(\"D:/projects/v2v/v5/tv360/result\")]\n",
    "for video in tqdm(filelist):\n",
    "    output_video = os.path.join(os.path.dirname(video), 'tempt', f\"{video.split(\"/\")[-1]}\")\n",
    "    resize_video(video, output_video)"
   ]
  },
  {
   "cell_type": "code",
   "execution_count": null,
   "metadata": {},
   "outputs": [],
   "source": [
    "import matplotlib.pyplot as plt\n",
    "import numpy as np\n",
    "import skvideo.measure\n",
    "import cv2\n",
    "import skvideo.io\n",
    "import os\n",
    "from tqdm import tqdm\n",
    "from src.post_processing.utils import filter_highlight_scenes, cut_video_by_frame\n",
    "np.float = float    \n",
    "np.int = int   #module 'numpy' has no attribute 'int'\n",
    "np.object = object    #module 'numpy' has no attribute 'object'\n",
    "np.bool = bool \n",
    "\n",
    "filelist = sorted([f\"D:/projects/v2v/v5/tv360/result/{i}\" for i in os.listdir(\"D:/projects/v2v/v5/tv360/result\")])\n",
    "for filename in tqdm(filelist):\n",
    "    videodata = skvideo.io.vread(filename)\n",
    "    # videometadata = skvideo.io.ffprobe(filename)\n",
    "    scene_lum_idx = skvideo.measure.scenedet(videodata, method='histogram', parameter1=1.0)\n",
    "    \n",
    "    frame_cut = filter_highlight_scenes(scene_lum_idx)\n",
    "    cut_video_by_frame(video_path = filename, frame_position = frame_cut, middle_threshold= 0.2)"
   ]
  },
  {
   "cell_type": "code",
   "execution_count": 12,
   "metadata": {},
   "outputs": [
    {
     "name": "stderr",
     "output_type": "stream",
     "text": [
      "0it [00:00, ?it/s]"
     ]
    },
    {
     "name": "stdout",
     "output_type": "stream",
     "text": [
      "0\n",
      "627\n"
     ]
    },
    {
     "name": "stderr",
     "output_type": "stream",
     "text": [
      "1it [00:04,  4.12s/it]"
     ]
    },
    {
     "name": "stdout",
     "output_type": "stream",
     "text": [
      "Frame 313 nằm ở nửa đầu video, giữ lại phần sau từ 10.44s. Kết quả: D:/projects/v2v/v5/tv360/result\\Cards_62_second_half.mp4\n",
      "670\n",
      "1294\n"
     ]
    },
    {
     "name": "stderr",
     "output_type": "stream",
     "text": [
      "2it [00:08,  4.18s/it]"
     ]
    },
    {
     "name": "stdout",
     "output_type": "stream",
     "text": [
      "Frame 982 nằm ở giữa video (frame 720-1080), giữ nguyên video. Kết quả: D:/projects/v2v/v5/tv360/result\\Foul_25_full.mp4\n",
      "531\n",
      "1021\n"
     ]
    },
    {
     "name": "stderr",
     "output_type": "stream",
     "text": [
      "3it [00:12,  4.11s/it]"
     ]
    },
    {
     "name": "stdout",
     "output_type": "stream",
     "text": [
      "Frame 776 nằm ở giữa video (frame 720-1080), giữ nguyên video. Kết quả: D:/projects/v2v/v5/tv360/result\\Foul_5_full.mp4\n",
      "1485\n",
      "2750\n"
     ]
    },
    {
     "name": "stderr",
     "output_type": "stream",
     "text": [
      "4it [00:20,  5.67s/it]"
     ]
    },
    {
     "name": "stdout",
     "output_type": "stream",
     "text": [
      "Frame 2117 nằm ở giữa video (frame 1440-2160), giữ nguyên video. Kết quả: D:/projects/v2v/v5/tv360/result\\Goal_22_23_full.mp4\n",
      "1379\n",
      "2103\n"
     ]
    },
    {
     "name": "stderr",
     "output_type": "stream",
     "text": [
      "5it [00:28,  6.38s/it]"
     ]
    },
    {
     "name": "stdout",
     "output_type": "stream",
     "text": [
      "Frame 1741 nằm ở giữa video (frame 1440-2160), giữ nguyên video. Kết quả: D:/projects/v2v/v5/tv360/result\\Goal_35_36_full.mp4\n",
      "1716\n",
      "3078\n"
     ]
    },
    {
     "name": "stderr",
     "output_type": "stream",
     "text": [
      "6it [00:35,  6.58s/it]"
     ]
    },
    {
     "name": "stdout",
     "output_type": "stream",
     "text": [
      "Frame 2397 nằm ở nửa sau video, giữ lại phần trước đến 79.91s. Kết quả: D:/projects/v2v/v5/tv360/result\\Goal_50_51_first_half.mp4\n"
     ]
    },
    {
     "name": "stderr",
     "output_type": "stream",
     "text": [
      "7it [00:41,  6.59s/it]"
     ]
    },
    {
     "name": "stdout",
     "output_type": "stream",
     "text": [
      "Frame 3175 nằm ở nửa sau video, giữ lại phần trước đến 105.84s. Kết quả: D:/projects/v2v/v5/tv360/result\\Goal_68_69_first_half.mp4\n",
      "1577\n",
      "2782\n"
     ]
    },
    {
     "name": "stderr",
     "output_type": "stream",
     "text": [
      "8it [00:49,  7.03s/it]"
     ]
    },
    {
     "name": "stdout",
     "output_type": "stream",
     "text": [
      "Frame 2179 nằm ở nửa sau video, giữ lại phần trước đến 72.65s. Kết quả: D:/projects/v2v/v5/tv360/result\\Goal_75_76_first_half.mp4\n",
      "949\n",
      "2298\n"
     ]
    },
    {
     "name": "stderr",
     "output_type": "stream",
     "text": [
      "9it [00:56,  6.88s/it]"
     ]
    },
    {
     "name": "stdout",
     "output_type": "stream",
     "text": [
      "Frame 1623 nằm ở giữa video (frame 1440-2160), giữ nguyên video. Kết quả: D:/projects/v2v/v5/tv360/result\\Goal_80_81_full.mp4\n",
      "2107\n",
      "2716\n"
     ]
    },
    {
     "name": "stderr",
     "output_type": "stream",
     "text": [
      "10it [01:02,  6.76s/it]"
     ]
    },
    {
     "name": "stdout",
     "output_type": "stream",
     "text": [
      "Frame 2411 nằm ở nửa sau video, giữ lại phần trước đến 80.37s. Kết quả: D:/projects/v2v/v5/tv360/result\\Goal_88_89_first_half.mp4\n",
      "498\n",
      "1291\n"
     ]
    },
    {
     "name": "stderr",
     "output_type": "stream",
     "text": [
      "11it [01:09,  6.85s/it]"
     ]
    },
    {
     "name": "stdout",
     "output_type": "stream",
     "text": [
      "Frame 894 nằm ở nửa đầu video, giữ lại phần sau từ 29.81s. Kết quả: D:/projects/v2v/v5/tv360/result\\Goal_97_98_second_half.mp4\n",
      "2415\n",
      "3534\n"
     ]
    },
    {
     "name": "stderr",
     "output_type": "stream",
     "text": [
      "12it [01:16,  6.79s/it]"
     ]
    },
    {
     "name": "stdout",
     "output_type": "stream",
     "text": [
      "Frame 2974 nằm ở nửa sau video, giữ lại phần trước đến 99.15s. Kết quả: D:/projects/v2v/v5/tv360/result\\Shots_17_18_first_half.mp4\n",
      "579\n",
      "1456\n"
     ]
    },
    {
     "name": "stderr",
     "output_type": "stream",
     "text": [
      "13it [01:19,  5.79s/it]"
     ]
    },
    {
     "name": "stdout",
     "output_type": "stream",
     "text": [
      "Frame 1017 nằm ở giữa video (frame 720-1080), giữ nguyên video. Kết quả: D:/projects/v2v/v5/tv360/result\\Shots_46_full.mp4\n",
      "0\n",
      "669\n"
     ]
    },
    {
     "name": "stderr",
     "output_type": "stream",
     "text": [
      "14it [01:23,  5.11s/it]"
     ]
    },
    {
     "name": "stdout",
     "output_type": "stream",
     "text": [
      "Frame 334 nằm ở nửa đầu video, giữ lại phần sau từ 11.14s. Kết quả: D:/projects/v2v/v5/tv360/result\\Shots_67_second_half.mp4\n"
     ]
    },
    {
     "name": "stderr",
     "output_type": "stream",
     "text": [
      "15it [01:26,  4.63s/it]"
     ]
    },
    {
     "name": "stdout",
     "output_type": "stream",
     "text": [
      "Frame 875 nằm ở giữa video (frame 720-1080), giữ nguyên video. Kết quả: D:/projects/v2v/v5/tv360/result\\Shots_79_full.mp4\n"
     ]
    },
    {
     "name": "stderr",
     "output_type": "stream",
     "text": [
      "16it [01:30,  4.27s/it]"
     ]
    },
    {
     "name": "stdout",
     "output_type": "stream",
     "text": [
      "Frame 1027 nằm ở giữa video (frame 720-1080), giữ nguyên video. Kết quả: D:/projects/v2v/v5/tv360/result\\Shots_9_full.mp4\n",
      "509\n",
      "1800\n"
     ]
    },
    {
     "name": "stderr",
     "output_type": "stream",
     "text": [
      "17it [01:37,  5.06s/it]"
     ]
    },
    {
     "name": "stdout",
     "output_type": "stream",
     "text": [
      "Frame 1154 nằm ở nửa đầu video, giữ lại phần sau từ 38.47s. Kết quả: D:/projects/v2v/v5/tv360/result\\Substitution_24_26_second_half.mp4\n",
      "153\n",
      "1079\n"
     ]
    },
    {
     "name": "stderr",
     "output_type": "stream",
     "text": [
      "18it [01:45,  5.84s/it]"
     ]
    },
    {
     "name": "stdout",
     "output_type": "stream",
     "text": [
      "Frame 616 nằm ở nửa đầu video, giữ lại phần sau từ 20.54s. Kết quả: D:/projects/v2v/v5/tv360/result\\Substitution_77_78_second_half.mp4\n"
     ]
    },
    {
     "name": "stderr",
     "output_type": "stream",
     "text": [
      "\n"
     ]
    }
   ],
   "source": [
    "import matplotlib.pyplot as plt\n",
    "import numpy as np\n",
    "import skvideo.measure\n",
    "import cv2\n",
    "import skvideo.io\n",
    "import os\n",
    "from tqdm import tqdm\n",
    "from src.post_processing.utils import filter_highlight_scenes, cut_video_by_frame\n",
    "np.float = float    \n",
    "np.int = int   #module 'numpy' has no attribute 'int'\n",
    "np.object = object    #module 'numpy' has no attribute 'object'\n",
    "np.bool = bool \n",
    "\n",
    "filelist = sorted([f\"D:/projects/v2v/v5/tv360/result/{i}\" for i in os.listdir(\"D:/projects/v2v/v5/tv360/result\") if not os.path.isdir(f\"D:/projects/v2v/v5/tv360/result/{i}\")])\n",
    "filelist2 = sorted([f\"D:/projects/v2v/v5/tv360/result/tempt/{i}\" for i in os.listdir(\"D:/projects/v2v/v5/tv360/result/tempt\")])\n",
    "\n",
    "for i, j in tqdm(zip(filelist, filelist2)):\n",
    "    videodata = skvideo.io.vread(j)\n",
    "    scene_lum_idx = skvideo.measure.scenedet(videodata, method='histogram', parameter1= 1.0)\n",
    "    frame_cut = filter_highlight_scenes(scene_lum_idx)\n",
    "    cut_video_by_frame(video_path = i, frame_position = frame_cut, middle_threshold= 0.1)"
   ]
  },
  {
   "cell_type": "code",
   "execution_count": 2,
   "metadata": {},
   "outputs": [
    {
     "data": {
      "text/plain": [
       "['D:/projects/v2v/v5/tv360/result/correct/Cards_62_second_half.mp4',\n",
       " 'D:/projects/v2v/v5/tv360/result/correct/Foul_25_full.mp4',\n",
       " 'D:/projects/v2v/v5/tv360/result/correct/Foul_5_full.mp4',\n",
       " 'D:/projects/v2v/v5/tv360/result/correct/Goal_22_23_full.mp4',\n",
       " 'D:/projects/v2v/v5/tv360/result/correct/Goal_35_36_full.mp4',\n",
       " 'D:/projects/v2v/v5/tv360/result/correct/Goal_50_51_first_half.mp4',\n",
       " 'D:/projects/v2v/v5/tv360/result/correct/Goal_68_69_first_half.mp4',\n",
       " 'D:/projects/v2v/v5/tv360/result/correct/Goal_75_76_first_half.mp4',\n",
       " 'D:/projects/v2v/v5/tv360/result/correct/Goal_80_81_full.mp4',\n",
       " 'D:/projects/v2v/v5/tv360/result/correct/Goal_88_89_first_half.mp4',\n",
       " 'D:/projects/v2v/v5/tv360/result/correct/Goal_97_98_second_half.mp4',\n",
       " 'D:/projects/v2v/v5/tv360/result/correct/Shots_17_18_first_half.mp4',\n",
       " 'D:/projects/v2v/v5/tv360/result/correct/Shots_46_full.mp4',\n",
       " 'D:/projects/v2v/v5/tv360/result/correct/Shots_67_second_half.mp4',\n",
       " 'D:/projects/v2v/v5/tv360/result/correct/Shots_79_full.mp4',\n",
       " 'D:/projects/v2v/v5/tv360/result/correct/Shots_9_full.mp4',\n",
       " 'D:/projects/v2v/v5/tv360/result/correct/Substitution_24_26_second_half.mp4',\n",
       " 'D:/projects/v2v/v5/tv360/result/correct/Substitution_77_78_second_half.mp4']"
      ]
     },
     "execution_count": 2,
     "metadata": {},
     "output_type": "execute_result"
    }
   ],
   "source": [
    "from src.preprocessing.video import normalize_path\n",
    "basedir = \"D:\\\\projects\\\\v2v\\\\v5\\\\tv360\\\\result\\\\correct\"\n",
    "[normalize_path(f\"{basedir}/{i}\") for i in os.listdir(basedir)]"
   ]
  },
  {
   "cell_type": "code",
   "execution_count": 3,
   "metadata": {},
   "outputs": [
    {
     "name": "stdout",
     "output_type": "stream",
     "text": [
      "Đã ghép nối 18 video thành công! Kết quả: tv360_sample.mp4\n"
     ]
    }
   ],
   "source": [
    "import os\n",
    "import subprocess\n",
    "from pathlib import Path\n",
    "\n",
    "def merge_videos(video_list, output_path, method=\"concat\"):\n",
    "    \"\"\"\n",
    "    Ghép nối nhiều video theo thứ tự trong danh sách.\n",
    "    \n",
    "    Args:\n",
    "        video_list (list): Danh sách đường dẫn đến các video cần ghép nối\n",
    "        output_path (str): Đường dẫn đến file video đầu ra\n",
    "        method (str): Phương pháp ghép nối, \"concat\" hoặc \"filter_complex\"\n",
    "    \n",
    "    Returns:\n",
    "        str: Đường dẫn đến video đã ghép nối\n",
    "    \"\"\"\n",
    "    if not video_list:\n",
    "        raise ValueError(\"Danh sách video trống!\")\n",
    "    \n",
    "    # Kiểm tra tất cả các video có tồn tại không\n",
    "    for video in video_list:\n",
    "        if not os.path.exists(video):\n",
    "            raise FileNotFoundError(f\"Không tìm thấy file video: {video}\")\n",
    "    \n",
    "    if method == \"concat\":\n",
    "        # Phương pháp 1: Sử dụng file danh sách (tốt nhất cho video cùng codec)\n",
    "        filelist_path = \"temp_filelist.txt\"\n",
    "        \n",
    "        with open(filelist_path, \"w\", encoding=\"utf-8\") as f:\n",
    "            for video in video_list:\n",
    "                # Sử dụng đường dẫn tuyệt đối và escape ký tự đặc biệt\n",
    "                abs_path = os.path.abspath(video).replace(\"\\\\\", \"/\")\n",
    "                f.write(f\"file '{abs_path}'\\n\")\n",
    "        \n",
    "        cmd = f'ffmpeg -f concat -safe 0 -i \"{filelist_path}\" -c copy \"{output_path}\"'\n",
    "        \n",
    "        try:\n",
    "            subprocess.run(cmd, shell=True, check=True)\n",
    "            print(f\"Đã ghép nối {len(video_list)} video thành công! Kết quả: {output_path}\")\n",
    "        except subprocess.CalledProcessError as e:\n",
    "            print(f\"Lỗi khi ghép nối video: {e}\")\n",
    "            return None\n",
    "        finally:\n",
    "            # Xóa file tạm\n",
    "            if os.path.exists(filelist_path):\n",
    "                os.remove(filelist_path)\n",
    "    \n",
    "    elif method == \"filter_complex\":\n",
    "        # Phương pháp 2: Sử dụng filter_complex (cho video khác codec)\n",
    "        inputs = \"\"\n",
    "        filter_complex = \"\"\n",
    "        \n",
    "        for i, video in enumerate(video_list):\n",
    "            inputs += f' -i \"{video}\"'\n",
    "            filter_complex += f\"[{i}:v:0][{i}:a:0]\"\n",
    "        \n",
    "        filter_complex += f\"concat=n={len(video_list)}:v=1:a=1[outv][outa]\"\n",
    "        cmd = f'ffmpeg{inputs} -filter_complex \"{filter_complex}\" -map \"[outv]\" -map \"[outa]\" \"{output_path}\"'\n",
    "        \n",
    "        try:\n",
    "            subprocess.run(cmd, shell=True, check=True)\n",
    "            print(f\"Đã ghép nối {len(video_list)} video thành công! Kết quả: {output_path}\")\n",
    "        except subprocess.CalledProcessError as e:\n",
    "            print(f\"Lỗi khi ghép nối video: {e}\")\n",
    "            return None\n",
    "    \n",
    "    else:\n",
    "        raise ValueError(\"Phương pháp không hợp lệ! Chỉ hỗ trợ 'concat' hoặc 'filter_complex'\")\n",
    "    \n",
    "    return output_path\n",
    "\n",
    "# Ví dụ sử dụng\n",
    "video_list = ['D:/projects/v2v/v5/tv360/result/correct/Foul_5_full.mp4',\n",
    " 'D:/projects/v2v/v5/tv360/result/correct/Shots_9_full.mp4',\n",
    " 'D:/projects/v2v/v5/tv360/result/correct/Shots_17_18_first_half.mp4',\n",
    " 'D:/projects/v2v/v5/tv360/result/correct/Goal_22_23_full.mp4',\n",
    " 'D:/projects/v2v/v5/tv360/result/correct/Substitution_24_26_second_half.mp4',\n",
    " 'D:/projects/v2v/v5/tv360/result/correct/Foul_25_full.mp4',\n",
    " 'D:/projects/v2v/v5/tv360/result/correct/Goal_35_36_full.mp4',\n",
    " 'D:/projects/v2v/v5/tv360/result/correct/Shots_46_full.mp4',\n",
    " 'D:/projects/v2v/v5/tv360/result/correct/Goal_50_51_first_half.mp4',\n",
    " 'D:/projects/v2v/v5/tv360/result/correct/Cards_62_second_half.mp4',\n",
    " 'D:/projects/v2v/v5/tv360/result/correct/Shots_67_second_half.mp4',\n",
    " 'D:/projects/v2v/v5/tv360/result/correct/Goal_68_69_first_half.mp4',\n",
    " 'D:/projects/v2v/v5/tv360/result/correct/Goal_75_76_first_half.mp4',\n",
    " 'D:/projects/v2v/v5/tv360/result/correct/Substitution_77_78_second_half.mp4',\n",
    " 'D:/projects/v2v/v5/tv360/result/correct/Shots_79_full.mp4',\n",
    " 'D:/projects/v2v/v5/tv360/result/correct/Goal_80_81_full.mp4',\n",
    " 'D:/projects/v2v/v5/tv360/result/correct/Goal_88_89_first_half.mp4',\n",
    " 'D:/projects/v2v/v5/tv360/result/correct/Goal_97_98_second_half.mp4']\n",
    "\n",
    "# Ghép nối sử dụng phương pháp concat (nhanh, giữ nguyên chất lượng)\n",
    "merged_video = merge_videos(video_list, \"tv360_sample.mp4\", method=\"concat\")\n",
    "\n",
    "# Nếu có lỗi với phương pháp concat (ví dụ: codec khác nhau), thử phương pháp filter_complex\n",
    "if not merged_video:\n",
    "    merge_videos(video_list, \"output_merged.mp4\", method=\"filter_complex\")\n"
   ]
  },
  {
   "cell_type": "code",
   "execution_count": 10,
   "metadata": {},
   "outputs": [
    {
     "data": {
      "text/plain": [
       "18"
      ]
     },
     "execution_count": 10,
     "metadata": {},
     "output_type": "execute_result"
    }
   ],
   "source": [
    "import os\n",
    "filelist = sorted([f\"D:/projects/v2v/v5/tv360/result/{i}\" for i in os.listdir(\"D:/projects/v2v/v5/tv360/result\") if not os.path.isdir(f\"D:/projects/v2v/v5/tv360/result/{i}\")])\n",
    "filelist2 = sorted([f\"D:/projects/v2v/v5/tv360/result/tempt/{i}\" for i in os.listdir(\"D:/projects/v2v/v5/tv360/result/tempt\")])\n",
    "len(filelist2)"
   ]
  },
  {
   "cell_type": "code",
   "execution_count": 6,
   "metadata": {},
   "outputs": [
    {
     "data": {
      "text/plain": [
       "False"
      ]
     },
     "execution_count": 6,
     "metadata": {},
     "output_type": "execute_result"
    }
   ],
   "source": [
    "os.path.isdir('D:/projects/v2v/v5/tv360/result/Substitution_77_78.mp4')"
   ]
  },
  {
   "cell_type": "code",
   "execution_count": 6,
   "metadata": {},
   "outputs": [
    {
     "data": {
      "text/plain": [
       "array([   0,    4,    8,   12,   16,   20,   30,   53,   59,   63,   68,\n",
       "         72,   77,   81,   86,   90,   94,   98,  102,  106,  110,  120,\n",
       "        150,  154,  162,  166,  171,  175,  180,  184,  193,  214,  238,\n",
       "        243,  247,  252,  256,  260,  266,  270,  274,  283,  290,  299,\n",
       "        305,  320,  324,  328,  332,  336,  340,  344,  348,  352,  356,\n",
       "        360,  365,  369,  373,  377,  381,  385,  389,  393,  398,  402,\n",
       "        406,  410,  414,  418,  422,  426,  430,  434,  438,  442,  446,\n",
       "        450,  454,  458,  462,  466,  470,  474,  478,  482,  486,  490,\n",
       "        494,  498,  502,  506,  510,  514,  518,  522,  526,  530,  534,\n",
       "        538,  542,  546,  550,  554,  558,  562,  566,  570,  574,  578,\n",
       "        582,  586,  590,  594,  598,  602,  606,  610,  614,  618,  622,\n",
       "        626,  735,  740,  749,  754,  763,  773,  780,  785,  809,  815,\n",
       "        820,  824,  829,  840,  845,  869,  877,  881,  885,  892,  900,\n",
       "        910,  914,  918,  922,  929,  933,  938,  942,  947,  960,  968,\n",
       "        974,  978,  989,  995,  999, 1004, 1008, 1012, 1016, 1020, 1025,\n",
       "       1029, 1033, 1037, 1041, 1046, 1050, 1055, 1061, 1074, 1079, 1085,\n",
       "       1091, 1095, 1100, 1104, 1109, 1113, 1118, 1122, 1132, 1136, 1140,\n",
       "       1146, 1153, 1161, 1165, 1170, 1174, 1179, 1183, 1188, 1192, 1197,\n",
       "       1201, 1205, 1209, 1213, 1218, 1222, 1227, 1231, 1235, 1239, 1260,\n",
       "       1266, 1290, 1309, 1315, 1319, 1324, 1328, 1332, 1336, 1340, 1344,\n",
       "       1348, 1352, 1356, 1360, 1364, 1368, 1372, 1376, 1380, 1384, 1388,\n",
       "       1392, 1396, 1400, 1404, 1408, 1412, 1416, 1420, 1424, 1428, 1433,\n",
       "       1437, 1442, 1446, 1450, 1454, 1458, 1462, 1466, 1470, 1474, 1478,\n",
       "       1482, 1486, 1490, 1494, 1498, 1502, 1506, 1510, 1514, 1518, 1522,\n",
       "       1526, 1530, 1534, 1538, 1542, 1546, 1550, 1554, 1558, 1562, 1566,\n",
       "       1570, 1574, 1578, 1582, 1586, 1590, 1594, 1598, 1602, 1606, 1610,\n",
       "       1710, 1740])"
      ]
     },
     "execution_count": 6,
     "metadata": {},
     "output_type": "execute_result"
    }
   ],
   "source": [
    "skvideo.measure.scenedet(videodata, method='histogram', parameter1=1.0)"
   ]
  }
 ],
 "metadata": {
  "kernelspec": {
   "display_name": "Python 3",
   "language": "python",
   "name": "python3"
  },
  "language_info": {
   "codemirror_mode": {
    "name": "ipython",
    "version": 3
   },
   "file_extension": ".py",
   "mimetype": "text/x-python",
   "name": "python",
   "nbconvert_exporter": "python",
   "pygments_lexer": "ipython3",
   "version": "3.12.8"
  }
 },
 "nbformat": 4,
 "nbformat_minor": 2
}
