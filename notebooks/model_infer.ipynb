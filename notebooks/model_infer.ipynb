{
 "cells": [
  {
   "cell_type": "code",
   "execution_count": 1,
   "metadata": {},
   "outputs": [],
   "source": [
    "import torch\n",
    "import pandas as pd\n",
    "from transformers import AutoImageProcessor, TimesformerForVideoClassification\n",
    "from transformers import TimesformerModel, logging\n",
    "from src.models.video.models.timesformer import TimeSformer\n",
    "from src.preprocessing.video.utils import normalize_path\n",
    "\n",
    "data = pd.read_csv(\"D:\\\\projects\\\\v2v\\\\v5\\\\data\\\\timesformer_dataset.csv\", sep = \";\")"
   ]
  },
  {
   "cell_type": "code",
   "execution_count": null,
   "metadata": {},
   "outputs": [],
   "source": [
    "import os\n",
    "import time\n",
    "from tqdm import tqdm\n",
    "import torch\n",
    "from torch import nn\n",
    "from torch.optim import Adam, AdamW\n",
    "from transformers import VideoMAEForVideoClassification, logging\n",
    "from torch.nn.parallel import DistributedDataParallel as DDP\n",
    "from torch.optim.lr_scheduler import CosineAnnealingWarmRestarts\n",
    "\n",
    "from src.models.video.utils import AverageMeter\n",
    "from src.models.video.labels import EVENT_DICTIONARY_V2, INVERSE_EVENT_DICTIONARY_V2\n",
    "\n",
    "label2id = EVENT_DICTIONARY_V2\n",
    "id2label = INVERSE_EVENT_DICTIONARY_V2\n",
    "backbone = VideoMAEForVideoClassification.from_pretrained(\"anirudhmu/videomae-base-finetuned-soccer-action-recognitionx4\", \n",
    "                                                num_frames= 18,\n",
    "                                                label2id = label2id,\n",
    "                                                id2label = id2label, \n",
    "                                                ignore_mismatched_sizes=True)"
   ]
  },
  {
   "cell_type": "code",
   "execution_count": null,
   "metadata": {},
   "outputs": [],
   "source": []
  },
  {
   "cell_type": "code",
   "execution_count": null,
   "metadata": {},
   "outputs": [],
   "source": []
  },
  {
   "cell_type": "code",
   "execution_count": null,
   "metadata": {},
   "outputs": [],
   "source": []
  },
  {
   "cell_type": "code",
   "execution_count": null,
   "metadata": {},
   "outputs": [],
   "source": []
  },
  {
   "cell_type": "code",
   "execution_count": 2,
   "metadata": {},
   "outputs": [],
   "source": [
    "import av\n",
    "import numpy as np\n",
    "\n",
    "from transformers import AutoImageProcessor, TimesformerModel\n",
    "\n",
    "np.random.seed(0)\n",
    "\n",
    "\n",
    "def read_video_pyav(container, indices):\n",
    "    '''\n",
    "    Decode the video with PyAV decoder.\n",
    "    Args:\n",
    "        container (`av.container.input.InputContainer`): PyAV container.\n",
    "        indices (`List[int]`): List of frame indices to decode.\n",
    "    Returns:\n",
    "        result (np.ndarray): np array of decoded frames of shape (num_frames, height, width, 3).\n",
    "    '''\n",
    "    frames = []\n",
    "    container.seek(0)\n",
    "    start_index = indices[0]\n",
    "    end_index = indices[-1]\n",
    "    for i, frame in enumerate(container.decode(video=0)):\n",
    "        if i > end_index:\n",
    "            break\n",
    "        if i >= start_index and i in indices:\n",
    "            frames.append(frame)\n",
    "    return np.stack([x.to_ndarray(format=\"rgb24\") for x in frames])\n",
    "\n",
    "\n",
    "def sample_frame_indices(clip_len, frame_sample_rate, seg_len):\n",
    "    '''\n",
    "    Sample a given number of frame indices from the video.\n",
    "    Args:\n",
    "        clip_len (`int`): Total number of frames to sample.\n",
    "        frame_sample_rate (`int`): Sample every n-th frame.\n",
    "        seg_len (`int`): Maximum allowed index of sample's last frame.\n",
    "    Returns:\n",
    "        indices (`List[int]`): List of sampled frame indices\n",
    "    '''\n",
    "    converted_len = int(clip_len * frame_sample_rate)\n",
    "    end_idx = np.random.randint(converted_len, seg_len)\n",
    "    start_idx = end_idx - converted_len\n",
    "    indices = np.linspace(start_idx, end_idx, num=clip_len)\n",
    "    indices = np.clip(indices, start_idx, end_idx - 1).astype(np.int64)\n",
    "    return indices"
   ]
  },
  {
   "cell_type": "code",
   "execution_count": 3,
   "metadata": {},
   "outputs": [],
   "source": [
    "container = av.open(\"F:\\\\video_classification\\\\2014-11-04 - 22-45 Arsenal 3 - 3 Anderlecht\\\\chunk_8\\\\visual\\\\video_8_start_480_end_540.mp4\")\n",
    "indices = sample_frame_indices(clip_len=60, frame_sample_rate= 15, seg_len=container.streams.video[0].frames)\n",
    "video = read_video_pyav(container, indices)"
   ]
  },
  {
   "cell_type": "code",
   "execution_count": 23,
   "metadata": {},
   "outputs": [],
   "source": [
    "import os\n",
    "import torch\n",
    "from PIL import Image\n",
    "\n",
    "video_path = \"F:\\\\video_classification\\\\2014-11-04 - 22-45 Arsenal 3 - 3 Anderlecht\\\\chunk_91\\\\visual\\\\video_91_start_2805_end_2865.mp4\"\n",
    "image_extractor_path = \"facebook/timesformer-base-finetuned-k400\"\n",
    "\n",
    "device = torch.device('cuda' if torch.cuda.is_available() else 'cpu')\n",
    "image_processor = AutoImageProcessor.from_pretrained(\"facebook/timesformer-base-finetuned-k400\", use_fast = True)\n",
    "\n",
    "\n",
    "container = av.open(video_path)\n",
    "indices = sample_frame_indices(clip_len=60, frame_sample_rate= 15, seg_len=container.streams.video[0].frames)\n",
    "video = read_video_pyav(container, indices)\n",
    "\n",
    "inputs = image_processor(list(video), return_tensors=\"pt\").to(device)\n",
    "# inputs\n"
   ]
  },
  {
   "cell_type": "code",
   "execution_count": 21,
   "metadata": {},
   "outputs": [
    {
     "name": "stderr",
     "output_type": "stream",
     "text": [
      "Some weights of TimesformerModel were not initialized from the model checkpoint at fcakyon/timesformer-large-finetuned-k400 and are newly initialized because the shapes did not match:\n",
      "- timesformer.embeddings.time_embeddings: found shape torch.Size([1, 96, 768]) in the checkpoint and torch.Size([1, 30, 768]) in the model instantiated\n",
      "You should probably TRAIN this model on a down-stream task to be able to use it for predictions and inference.\n"
     ]
    }
   ],
   "source": [
    "from torch.optim import Adam\n",
    "\n",
    "model = TimeSformer(30, 17).to(device)\n",
    "ckpt = torch.load(\"./ds_tv360_model_timesformer_nepochs_2_nframes_30.pth\")\n",
    "\n",
    "optimizer = Adam([{\"params\": model.parameters(), \"lr\": 0.00001}])\n",
    "model.backbone.load_state_dict(ckpt[\"backbone\"])\n",
    "model.classifier.load_state_dict(ckpt[\"classifier\"])\n",
    "optimizer.load_state_dict(ckpt[\"optimizer\"])"
   ]
  },
  {
   "cell_type": "code",
   "execution_count": 45,
   "metadata": {},
   "outputs": [
    {
     "ename": "RuntimeError",
     "evalue": "shape '[1, 24, 14, 30, 768]' is invalid for input of size 7977984",
     "output_type": "error",
     "traceback": [
      "\u001b[1;31m---------------------------------------------------------------------------\u001b[0m",
      "\u001b[1;31mRuntimeError\u001b[0m                              Traceback (most recent call last)",
      "Cell \u001b[1;32mIn[45], line 3\u001b[0m\n\u001b[0;32m      1\u001b[0m threshold \u001b[38;5;241m=\u001b[39m \u001b[38;5;241m0.6\u001b[39m\n\u001b[0;32m      2\u001b[0m \u001b[38;5;28;01mwith\u001b[39;00m torch\u001b[38;5;241m.\u001b[39mno_grad():\n\u001b[1;32m----> 3\u001b[0m     outputs \u001b[38;5;241m=\u001b[39m \u001b[43mmodel\u001b[49m\u001b[38;5;241;43m.\u001b[39;49m\u001b[43mbackbone\u001b[49m\u001b[43m(\u001b[49m\u001b[38;5;241;43m*\u001b[39;49m\u001b[38;5;241;43m*\u001b[39;49m\u001b[43minputs\u001b[49m\u001b[43m)\u001b[49m\n\u001b[0;32m      4\u001b[0m     logits \u001b[38;5;241m=\u001b[39m model\u001b[38;5;241m.\u001b[39mclassifier(outputs[\u001b[38;5;241m0\u001b[39m][:, \u001b[38;5;241m0\u001b[39m])\n\u001b[0;32m      5\u001b[0m     probabilities \u001b[38;5;241m=\u001b[39m torch\u001b[38;5;241m.\u001b[39msigmoid(logits)\n",
      "File \u001b[1;32md:\\projects\\v2v\\v3\\.conda\\Lib\\site-packages\\torch\\nn\\modules\\module.py:1749\u001b[0m, in \u001b[0;36mModule._wrapped_call_impl\u001b[1;34m(self, *args, **kwargs)\u001b[0m\n\u001b[0;32m   1747\u001b[0m     \u001b[38;5;28;01mreturn\u001b[39;00m \u001b[38;5;28mself\u001b[39m\u001b[38;5;241m.\u001b[39m_compiled_call_impl(\u001b[38;5;241m*\u001b[39margs, \u001b[38;5;241m*\u001b[39m\u001b[38;5;241m*\u001b[39mkwargs)  \u001b[38;5;66;03m# type: ignore[misc]\u001b[39;00m\n\u001b[0;32m   1748\u001b[0m \u001b[38;5;28;01melse\u001b[39;00m:\n\u001b[1;32m-> 1749\u001b[0m     \u001b[38;5;28;01mreturn\u001b[39;00m \u001b[38;5;28;43mself\u001b[39;49m\u001b[38;5;241;43m.\u001b[39;49m\u001b[43m_call_impl\u001b[49m\u001b[43m(\u001b[49m\u001b[38;5;241;43m*\u001b[39;49m\u001b[43margs\u001b[49m\u001b[43m,\u001b[49m\u001b[43m \u001b[49m\u001b[38;5;241;43m*\u001b[39;49m\u001b[38;5;241;43m*\u001b[39;49m\u001b[43mkwargs\u001b[49m\u001b[43m)\u001b[49m\n",
      "File \u001b[1;32md:\\projects\\v2v\\v3\\.conda\\Lib\\site-packages\\torch\\nn\\modules\\module.py:1760\u001b[0m, in \u001b[0;36mModule._call_impl\u001b[1;34m(self, *args, **kwargs)\u001b[0m\n\u001b[0;32m   1755\u001b[0m \u001b[38;5;66;03m# If we don't have any hooks, we want to skip the rest of the logic in\u001b[39;00m\n\u001b[0;32m   1756\u001b[0m \u001b[38;5;66;03m# this function, and just call forward.\u001b[39;00m\n\u001b[0;32m   1757\u001b[0m \u001b[38;5;28;01mif\u001b[39;00m \u001b[38;5;129;01mnot\u001b[39;00m (\u001b[38;5;28mself\u001b[39m\u001b[38;5;241m.\u001b[39m_backward_hooks \u001b[38;5;129;01mor\u001b[39;00m \u001b[38;5;28mself\u001b[39m\u001b[38;5;241m.\u001b[39m_backward_pre_hooks \u001b[38;5;129;01mor\u001b[39;00m \u001b[38;5;28mself\u001b[39m\u001b[38;5;241m.\u001b[39m_forward_hooks \u001b[38;5;129;01mor\u001b[39;00m \u001b[38;5;28mself\u001b[39m\u001b[38;5;241m.\u001b[39m_forward_pre_hooks\n\u001b[0;32m   1758\u001b[0m         \u001b[38;5;129;01mor\u001b[39;00m _global_backward_pre_hooks \u001b[38;5;129;01mor\u001b[39;00m _global_backward_hooks\n\u001b[0;32m   1759\u001b[0m         \u001b[38;5;129;01mor\u001b[39;00m _global_forward_hooks \u001b[38;5;129;01mor\u001b[39;00m _global_forward_pre_hooks):\n\u001b[1;32m-> 1760\u001b[0m     \u001b[38;5;28;01mreturn\u001b[39;00m \u001b[43mforward_call\u001b[49m\u001b[43m(\u001b[49m\u001b[38;5;241;43m*\u001b[39;49m\u001b[43margs\u001b[49m\u001b[43m,\u001b[49m\u001b[43m \u001b[49m\u001b[38;5;241;43m*\u001b[39;49m\u001b[38;5;241;43m*\u001b[39;49m\u001b[43mkwargs\u001b[49m\u001b[43m)\u001b[49m\n\u001b[0;32m   1762\u001b[0m result \u001b[38;5;241m=\u001b[39m \u001b[38;5;28;01mNone\u001b[39;00m\n\u001b[0;32m   1763\u001b[0m called_always_called_hooks \u001b[38;5;241m=\u001b[39m \u001b[38;5;28mset\u001b[39m()\n",
      "File \u001b[1;32md:\\projects\\v2v\\v3\\.conda\\Lib\\site-packages\\transformers\\models\\timesformer\\modeling_timesformer.py:636\u001b[0m, in \u001b[0;36mTimesformerModel.forward\u001b[1;34m(self, pixel_values, output_attentions, output_hidden_states, return_dict)\u001b[0m\n\u001b[0;32m    632\u001b[0m return_dict \u001b[38;5;241m=\u001b[39m return_dict \u001b[38;5;28;01mif\u001b[39;00m return_dict \u001b[38;5;129;01mis\u001b[39;00m \u001b[38;5;129;01mnot\u001b[39;00m \u001b[38;5;28;01mNone\u001b[39;00m \u001b[38;5;28;01melse\u001b[39;00m \u001b[38;5;28mself\u001b[39m\u001b[38;5;241m.\u001b[39mconfig\u001b[38;5;241m.\u001b[39muse_return_dict\n\u001b[0;32m    634\u001b[0m embedding_output \u001b[38;5;241m=\u001b[39m \u001b[38;5;28mself\u001b[39m\u001b[38;5;241m.\u001b[39membeddings(pixel_values)\n\u001b[1;32m--> 636\u001b[0m encoder_outputs \u001b[38;5;241m=\u001b[39m \u001b[38;5;28;43mself\u001b[39;49m\u001b[38;5;241;43m.\u001b[39;49m\u001b[43mencoder\u001b[49m\u001b[43m(\u001b[49m\n\u001b[0;32m    637\u001b[0m \u001b[43m    \u001b[49m\u001b[43membedding_output\u001b[49m\u001b[43m,\u001b[49m\n\u001b[0;32m    638\u001b[0m \u001b[43m    \u001b[49m\u001b[43moutput_attentions\u001b[49m\u001b[38;5;241;43m=\u001b[39;49m\u001b[43moutput_attentions\u001b[49m\u001b[43m,\u001b[49m\n\u001b[0;32m    639\u001b[0m \u001b[43m    \u001b[49m\u001b[43moutput_hidden_states\u001b[49m\u001b[38;5;241;43m=\u001b[39;49m\u001b[43moutput_hidden_states\u001b[49m\u001b[43m,\u001b[49m\n\u001b[0;32m    640\u001b[0m \u001b[43m    \u001b[49m\u001b[43mreturn_dict\u001b[49m\u001b[38;5;241;43m=\u001b[39;49m\u001b[43mreturn_dict\u001b[49m\u001b[43m,\u001b[49m\n\u001b[0;32m    641\u001b[0m \u001b[43m\u001b[49m\u001b[43m)\u001b[49m\n\u001b[0;32m    642\u001b[0m sequence_output \u001b[38;5;241m=\u001b[39m encoder_outputs[\u001b[38;5;241m0\u001b[39m]\n\u001b[0;32m    643\u001b[0m \u001b[38;5;28;01mif\u001b[39;00m \u001b[38;5;28mself\u001b[39m\u001b[38;5;241m.\u001b[39mlayernorm \u001b[38;5;129;01mis\u001b[39;00m \u001b[38;5;129;01mnot\u001b[39;00m \u001b[38;5;28;01mNone\u001b[39;00m:\n",
      "File \u001b[1;32md:\\projects\\v2v\\v3\\.conda\\Lib\\site-packages\\torch\\nn\\modules\\module.py:1749\u001b[0m, in \u001b[0;36mModule._wrapped_call_impl\u001b[1;34m(self, *args, **kwargs)\u001b[0m\n\u001b[0;32m   1747\u001b[0m     \u001b[38;5;28;01mreturn\u001b[39;00m \u001b[38;5;28mself\u001b[39m\u001b[38;5;241m.\u001b[39m_compiled_call_impl(\u001b[38;5;241m*\u001b[39margs, \u001b[38;5;241m*\u001b[39m\u001b[38;5;241m*\u001b[39mkwargs)  \u001b[38;5;66;03m# type: ignore[misc]\u001b[39;00m\n\u001b[0;32m   1748\u001b[0m \u001b[38;5;28;01melse\u001b[39;00m:\n\u001b[1;32m-> 1749\u001b[0m     \u001b[38;5;28;01mreturn\u001b[39;00m \u001b[38;5;28;43mself\u001b[39;49m\u001b[38;5;241;43m.\u001b[39;49m\u001b[43m_call_impl\u001b[49m\u001b[43m(\u001b[49m\u001b[38;5;241;43m*\u001b[39;49m\u001b[43margs\u001b[49m\u001b[43m,\u001b[49m\u001b[43m \u001b[49m\u001b[38;5;241;43m*\u001b[39;49m\u001b[38;5;241;43m*\u001b[39;49m\u001b[43mkwargs\u001b[49m\u001b[43m)\u001b[49m\n",
      "File \u001b[1;32md:\\projects\\v2v\\v3\\.conda\\Lib\\site-packages\\torch\\nn\\modules\\module.py:1760\u001b[0m, in \u001b[0;36mModule._call_impl\u001b[1;34m(self, *args, **kwargs)\u001b[0m\n\u001b[0;32m   1755\u001b[0m \u001b[38;5;66;03m# If we don't have any hooks, we want to skip the rest of the logic in\u001b[39;00m\n\u001b[0;32m   1756\u001b[0m \u001b[38;5;66;03m# this function, and just call forward.\u001b[39;00m\n\u001b[0;32m   1757\u001b[0m \u001b[38;5;28;01mif\u001b[39;00m \u001b[38;5;129;01mnot\u001b[39;00m (\u001b[38;5;28mself\u001b[39m\u001b[38;5;241m.\u001b[39m_backward_hooks \u001b[38;5;129;01mor\u001b[39;00m \u001b[38;5;28mself\u001b[39m\u001b[38;5;241m.\u001b[39m_backward_pre_hooks \u001b[38;5;129;01mor\u001b[39;00m \u001b[38;5;28mself\u001b[39m\u001b[38;5;241m.\u001b[39m_forward_hooks \u001b[38;5;129;01mor\u001b[39;00m \u001b[38;5;28mself\u001b[39m\u001b[38;5;241m.\u001b[39m_forward_pre_hooks\n\u001b[0;32m   1758\u001b[0m         \u001b[38;5;129;01mor\u001b[39;00m _global_backward_pre_hooks \u001b[38;5;129;01mor\u001b[39;00m _global_backward_hooks\n\u001b[0;32m   1759\u001b[0m         \u001b[38;5;129;01mor\u001b[39;00m _global_forward_hooks \u001b[38;5;129;01mor\u001b[39;00m _global_forward_pre_hooks):\n\u001b[1;32m-> 1760\u001b[0m     \u001b[38;5;28;01mreturn\u001b[39;00m \u001b[43mforward_call\u001b[49m\u001b[43m(\u001b[49m\u001b[38;5;241;43m*\u001b[39;49m\u001b[43margs\u001b[49m\u001b[43m,\u001b[49m\u001b[43m \u001b[49m\u001b[38;5;241;43m*\u001b[39;49m\u001b[38;5;241;43m*\u001b[39;49m\u001b[43mkwargs\u001b[49m\u001b[43m)\u001b[49m\n\u001b[0;32m   1762\u001b[0m result \u001b[38;5;241m=\u001b[39m \u001b[38;5;28;01mNone\u001b[39;00m\n\u001b[0;32m   1763\u001b[0m called_always_called_hooks \u001b[38;5;241m=\u001b[39m \u001b[38;5;28mset\u001b[39m()\n",
      "File \u001b[1;32md:\\projects\\v2v\\v3\\.conda\\Lib\\site-packages\\transformers\\models\\timesformer\\modeling_timesformer.py:442\u001b[0m, in \u001b[0;36mTimesformerEncoder.forward\u001b[1;34m(self, hidden_states, output_attentions, output_hidden_states, return_dict)\u001b[0m\n\u001b[0;32m    436\u001b[0m     layer_outputs \u001b[38;5;241m=\u001b[39m \u001b[38;5;28mself\u001b[39m\u001b[38;5;241m.\u001b[39m_gradient_checkpointing_func(\n\u001b[0;32m    437\u001b[0m         layer_module\u001b[38;5;241m.\u001b[39m\u001b[38;5;21m__call__\u001b[39m,\n\u001b[0;32m    438\u001b[0m         hidden_states,\n\u001b[0;32m    439\u001b[0m         output_attentions,\n\u001b[0;32m    440\u001b[0m     )\n\u001b[0;32m    441\u001b[0m \u001b[38;5;28;01melse\u001b[39;00m:\n\u001b[1;32m--> 442\u001b[0m     layer_outputs \u001b[38;5;241m=\u001b[39m \u001b[43mlayer_module\u001b[49m\u001b[43m(\u001b[49m\u001b[43mhidden_states\u001b[49m\u001b[43m,\u001b[49m\u001b[43m \u001b[49m\u001b[43moutput_attentions\u001b[49m\u001b[43m)\u001b[49m\n\u001b[0;32m    444\u001b[0m hidden_states \u001b[38;5;241m=\u001b[39m layer_outputs[\u001b[38;5;241m0\u001b[39m]\n\u001b[0;32m    446\u001b[0m \u001b[38;5;28;01mif\u001b[39;00m output_attentions:\n",
      "File \u001b[1;32md:\\projects\\v2v\\v3\\.conda\\Lib\\site-packages\\torch\\nn\\modules\\module.py:1749\u001b[0m, in \u001b[0;36mModule._wrapped_call_impl\u001b[1;34m(self, *args, **kwargs)\u001b[0m\n\u001b[0;32m   1747\u001b[0m     \u001b[38;5;28;01mreturn\u001b[39;00m \u001b[38;5;28mself\u001b[39m\u001b[38;5;241m.\u001b[39m_compiled_call_impl(\u001b[38;5;241m*\u001b[39margs, \u001b[38;5;241m*\u001b[39m\u001b[38;5;241m*\u001b[39mkwargs)  \u001b[38;5;66;03m# type: ignore[misc]\u001b[39;00m\n\u001b[0;32m   1748\u001b[0m \u001b[38;5;28;01melse\u001b[39;00m:\n\u001b[1;32m-> 1749\u001b[0m     \u001b[38;5;28;01mreturn\u001b[39;00m \u001b[38;5;28;43mself\u001b[39;49m\u001b[38;5;241;43m.\u001b[39;49m\u001b[43m_call_impl\u001b[49m\u001b[43m(\u001b[49m\u001b[38;5;241;43m*\u001b[39;49m\u001b[43margs\u001b[49m\u001b[43m,\u001b[49m\u001b[43m \u001b[49m\u001b[38;5;241;43m*\u001b[39;49m\u001b[38;5;241;43m*\u001b[39;49m\u001b[43mkwargs\u001b[49m\u001b[43m)\u001b[49m\n",
      "File \u001b[1;32md:\\projects\\v2v\\v3\\.conda\\Lib\\site-packages\\torch\\nn\\modules\\module.py:1760\u001b[0m, in \u001b[0;36mModule._call_impl\u001b[1;34m(self, *args, **kwargs)\u001b[0m\n\u001b[0;32m   1755\u001b[0m \u001b[38;5;66;03m# If we don't have any hooks, we want to skip the rest of the logic in\u001b[39;00m\n\u001b[0;32m   1756\u001b[0m \u001b[38;5;66;03m# this function, and just call forward.\u001b[39;00m\n\u001b[0;32m   1757\u001b[0m \u001b[38;5;28;01mif\u001b[39;00m \u001b[38;5;129;01mnot\u001b[39;00m (\u001b[38;5;28mself\u001b[39m\u001b[38;5;241m.\u001b[39m_backward_hooks \u001b[38;5;129;01mor\u001b[39;00m \u001b[38;5;28mself\u001b[39m\u001b[38;5;241m.\u001b[39m_backward_pre_hooks \u001b[38;5;129;01mor\u001b[39;00m \u001b[38;5;28mself\u001b[39m\u001b[38;5;241m.\u001b[39m_forward_hooks \u001b[38;5;129;01mor\u001b[39;00m \u001b[38;5;28mself\u001b[39m\u001b[38;5;241m.\u001b[39m_forward_pre_hooks\n\u001b[0;32m   1758\u001b[0m         \u001b[38;5;129;01mor\u001b[39;00m _global_backward_pre_hooks \u001b[38;5;129;01mor\u001b[39;00m _global_backward_hooks\n\u001b[0;32m   1759\u001b[0m         \u001b[38;5;129;01mor\u001b[39;00m _global_forward_hooks \u001b[38;5;129;01mor\u001b[39;00m _global_forward_pre_hooks):\n\u001b[1;32m-> 1760\u001b[0m     \u001b[38;5;28;01mreturn\u001b[39;00m \u001b[43mforward_call\u001b[49m\u001b[43m(\u001b[49m\u001b[38;5;241;43m*\u001b[39;49m\u001b[43margs\u001b[49m\u001b[43m,\u001b[49m\u001b[43m \u001b[49m\u001b[38;5;241;43m*\u001b[39;49m\u001b[38;5;241;43m*\u001b[39;49m\u001b[43mkwargs\u001b[49m\u001b[43m)\u001b[49m\n\u001b[0;32m   1762\u001b[0m result \u001b[38;5;241m=\u001b[39m \u001b[38;5;28;01mNone\u001b[39;00m\n\u001b[0;32m   1763\u001b[0m called_always_called_hooks \u001b[38;5;241m=\u001b[39m \u001b[38;5;28mset\u001b[39m()\n",
      "File \u001b[1;32md:\\projects\\v2v\\v3\\.conda\\Lib\\site-packages\\transformers\\models\\timesformer\\modeling_timesformer.py:348\u001b[0m, in \u001b[0;36mTimesformerLayer.forward\u001b[1;34m(self, hidden_states, output_attentions)\u001b[0m\n\u001b[0;32m    345\u001b[0m \u001b[38;5;28;01melif\u001b[39;00m \u001b[38;5;28mself\u001b[39m\u001b[38;5;241m.\u001b[39mattention_type \u001b[38;5;241m==\u001b[39m \u001b[38;5;124m\"\u001b[39m\u001b[38;5;124mdivided_space_time\u001b[39m\u001b[38;5;124m\"\u001b[39m:\n\u001b[0;32m    346\u001b[0m     \u001b[38;5;66;03m# Temporal\u001b[39;00m\n\u001b[0;32m    347\u001b[0m     temporal_embedding \u001b[38;5;241m=\u001b[39m hidden_states[:, \u001b[38;5;241m1\u001b[39m:, :]\n\u001b[1;32m--> 348\u001b[0m     temporal_embedding \u001b[38;5;241m=\u001b[39m \u001b[43mtemporal_embedding\u001b[49m\u001b[38;5;241;43m.\u001b[39;49m\u001b[43mreshape\u001b[49m\u001b[43m(\u001b[49m\n\u001b[0;32m    349\u001b[0m \u001b[43m        \u001b[49m\u001b[43mbatch_size\u001b[49m\u001b[43m,\u001b[49m\u001b[43m \u001b[49m\u001b[43mnum_patch_height\u001b[49m\u001b[43m,\u001b[49m\u001b[43m \u001b[49m\u001b[43mnum_patch_width\u001b[49m\u001b[43m,\u001b[49m\u001b[43m \u001b[49m\u001b[43mnum_frames\u001b[49m\u001b[43m,\u001b[49m\u001b[43m \u001b[49m\u001b[43mtemporal_embedding\u001b[49m\u001b[38;5;241;43m.\u001b[39;49m\u001b[43mshape\u001b[49m\u001b[43m[\u001b[49m\u001b[38;5;241;43m2\u001b[39;49m\u001b[43m]\u001b[49m\n\u001b[0;32m    350\u001b[0m \u001b[43m    \u001b[49m\u001b[43m)\u001b[49m\u001b[38;5;241m.\u001b[39mreshape(batch_size \u001b[38;5;241m*\u001b[39m num_patch_height \u001b[38;5;241m*\u001b[39m num_patch_width, num_frames, temporal_embedding\u001b[38;5;241m.\u001b[39mshape[\u001b[38;5;241m2\u001b[39m])\n\u001b[0;32m    352\u001b[0m     temporal_attention_outputs \u001b[38;5;241m=\u001b[39m \u001b[38;5;28mself\u001b[39m\u001b[38;5;241m.\u001b[39mtemporal_attention(\n\u001b[0;32m    353\u001b[0m         \u001b[38;5;28mself\u001b[39m\u001b[38;5;241m.\u001b[39mtemporal_layernorm(temporal_embedding),\n\u001b[0;32m    354\u001b[0m     )\n\u001b[0;32m    355\u001b[0m     attention_output \u001b[38;5;241m=\u001b[39m temporal_attention_outputs[\u001b[38;5;241m0\u001b[39m]\n",
      "\u001b[1;31mRuntimeError\u001b[0m: shape '[1, 24, 14, 30, 768]' is invalid for input of size 7977984"
     ]
    }
   ],
   "source": [
    "threshold = 0.6\n",
    "with torch.no_grad():\n",
    "    outputs = model.backbone(**inputs)\n",
    "    logits = model.classifier(outputs[0][:, 0])\n",
    "    probabilities = torch.sigmoid(logits)\n",
    "    predictions = (probabilities >= threshold).int() \n",
    "    print(probabilities)\n",
    "    print(predictions)\n",
    "    "
   ]
  },
  {
   "cell_type": "code",
   "execution_count": 27,
   "metadata": {},
   "outputs": [
    {
     "data": {
      "text/plain": [
       "tensor([0.5500, 0.5500, 0.5500, 0.5500, 0.5500, 0.5500, 0.5500, 0.5500, 0.5500,\n",
       "        0.5500, 0.5500, 0.5500, 0.5500, 0.5500, 0.5500, 0.5500, 0.5500],\n",
       "       device='cuda:0')"
      ]
     },
     "execution_count": 27,
     "metadata": {},
     "output_type": "execute_result"
    }
   ],
   "source": [
    "torch.full((17,), 0.55, device=\"cuda\")"
   ]
  },
  {
   "cell_type": "code",
   "execution_count": 6,
   "metadata": {},
   "outputs": [],
   "source": [
    "def binary2label(values: torch.Tensor):\n",
    "    return torch.nonzero(values[0], as_tuple=True)[0].tolist()"
   ]
  },
  {
   "cell_type": "code",
   "execution_count": 26,
   "metadata": {},
   "outputs": [
    {
     "name": "stdout",
     "output_type": "stream",
     "text": [
      "tensor([[0.2978, 0.3940, 0.3271, 0.3950, 0.3441, 0.4660, 0.4212, 0.5003, 0.7187,\n",
      "         0.6485, 0.5439, 0.5422, 0.3975, 0.4595, 0.3942, 0.2028, 0.2117]],\n",
      "       device='cuda:0')\n",
      "tensor([[0, 0, 0, 0, 0, 0, 0, 0, 1, 0, 1, 1, 0, 0, 0, 0, 0]], device='cuda:0',\n",
      "       dtype=torch.int32)\n",
      "[8, 10, 11]\n"
     ]
    }
   ],
   "source": [
    "import torch\n",
    "\n",
    "# Giả sử threshold khác nhau cho từng class (có thể thay đổi giá trị theo yêu cầu)\n",
    "thresholds = torch.tensor([0.400, 0.500, 0.500, 0.5500, 0.5500, 0.700, 0.700, 0.700, 0.700,\n",
    "        0.6500, 0.52, 0.52, 0.65, 0.55, 0.65, 0.65, 0.65],\n",
    "       device='cuda:0')\n",
    "\n",
    "with torch.no_grad():\n",
    "    outputs = model.backbone(**inputs)\n",
    "    logits = model.classifier(outputs[0][:, 0])  # (batch_size, 17)\n",
    "    probabilities = torch.sigmoid(logits)  # (batch_size, 17)\n",
    "\n",
    "    # So sánh từng giá trị với threshold tương ứng\n",
    "    predictions = (probabilities >= thresholds).int()\n",
    "\n",
    "    print(probabilities)\n",
    "    print(predictions)\n",
    "    print(binary2label(predictions))\n",
    "\n",
    "# tensor([[0.0658, 0.2289, 0.2500, 0.4105, 0.3129, 0.5913, 0.5936, 0.5728, 0.9524,\n",
    "#          0.8809, 0.8384, 0.6186, 0.3348, 0.5612, 0.3578, 0.0251, 0.0442]],\n"
   ]
  },
  {
   "cell_type": "code",
   "execution_count": null,
   "metadata": {},
   "outputs": [],
   "source": []
  },
  {
   "cell_type": "code",
   "execution_count": 12,
   "metadata": {},
   "outputs": [],
   "source": [
    "import os\n",
    "import math\n",
    "import numpy\n",
    "import torch\n",
    "import json\n",
    "from tqdm import tqdm\n",
    "from typing import Optional, Dict\n",
    "from PIL import Image\n",
    "from typing import List\n",
    "\n",
    "from torch.optim import Adam  # noqa\n",
    "from transformers import TimesformerModel\n",
    "from transformers import AutoImageProcessor\n",
    "\n",
    "from src.logger import Logging\n",
    "from src.models.video.models.timesformer import TimeSformer\n",
    "from src.models.video.labels import INVERSE_EVENT_DICTIONARY_V2, EVENT_DICTIONARY_V2\n",
    "\n",
    "logger = Logging()\n",
    "\n",
    "class TimeSformerInferencing:\n",
    "    def __init__(self,\n",
    "                num_frames: int = 4,\n",
    "                num_classes: int = 18,\n",
    "                model: str = 'timesformer',\n",
    "                image_extractor: str = \"facebook/timesformer-base-finetuned-k600\",\n",
    "                device: str = 'cuda:0',\n",
    "                label2id: Optional[Dict] = EVENT_DICTIONARY_V2,\n",
    "                id2label: Optional[Dict] = INVERSE_EVENT_DICTIONARY_V2,\n",
    "                game_name: str = None,\n",
    "                checkpoint: str = None):\n",
    "        self.image_extractor = image_extractor\n",
    "        self.num_frames = num_frames\n",
    "        self.num_classes = num_classes\n",
    "        self.device = device if torch.cuda.is_available() else 'cpu'\n",
    "        if self.device == 'cpu': \n",
    "            logger.warning(\"Inferencing with CPU, the process might be 4 times slowwer than user\")\n",
    "        self.model = model\n",
    "        if self.model == 'timesformer':\n",
    "            self.initial_model = TimeSformer(self.num_frames, self.num_classes).to(self.device)\n",
    "        self.game_name = game_name\n",
    "        # label dictdict\n",
    "        self.label2id = label2id if label2id is not None else EVENT_DICTIONARY_V2\n",
    "        self.id2label = id2label if id2label is not None else INVERSE_EVENT_DICTIONARY_V2\n",
    "        \n",
    "        # Initialize model checkpoint\n",
    "        if checkpoint is not None:\n",
    "            try:\n",
    "                ckpt = torch.load(checkpoint)\n",
    "                optimizer = Adam([{\"params\": self.initial_model.parameters(), \"lr\": 0.00001}])\n",
    "                self.initial_model.backbone.load_state_dict(ckpt[\"backbone\"])\n",
    "                self.initial_model.classifier.load_state_dict(ckpt[\"classifier\"])\n",
    "                optimizer.load_state_dict(ckpt[\"optimizer\"])\n",
    "            except Exception as e:\n",
    "                logger.error(f\"Failed to load checkpoint: {e}\")\n",
    "                raise ValueError(\"Checkpoint loading failed. Recheck filepath\")\n",
    "    \n",
    "    @staticmethod\n",
    "    def binary_to_id(values: torch.Tensor):\n",
    "        return torch.nonzero(values[0], as_tuple=True)[0].tolist()\n",
    "    \n",
    "    @staticmethod\n",
    "    def id_to_label(values):\n",
    "        return [INVERSE_EVENT_DICTIONARY_V2.get(id, \"Event not recognized\") for id in values]\n",
    "    \n",
    "    def listgame(self):\n",
    "        frames_per_game = sorted([f\"{self.game_name}/{i}/frames\" for i in os.listdir(self.game_name) \\\n",
    "            if not (i.endswith(\".json\") or i.endswith('.csv'))], \\\n",
    "                key = lambda x: int(x.split(\"/\")[-2].split(\"_\")[-1])\n",
    "                )\n",
    "        return frames_per_game\n",
    "    \n",
    "    def sample_frames_indices(self, video: str, method: str, spacing: int):\n",
    "        list_frames = [f\"{video}/{i}\" for i in os.listdir(video) if not i.endswith(\".json\")]\n",
    "        if method == 'from_top':\n",
    "            start_idx = 0\n",
    "            end_idx = len(list_frames) - 1\n",
    "            # Giới hạn số lượng indices tối đa theo x\n",
    "            actual_spacing = min(spacing, self.num_frames, len(list_frames))\n",
    "            \n",
    "            indices = numpy.linspace(start_idx, end_idx, actual_spacing)\n",
    "            indices = numpy.clip(indices, start_idx, end_idx - 1).astype(numpy.int64)\n",
    "        elif method == 'from_middle':\n",
    "            center_idx = math.ceil(len(list_frames) / 2) - 1\n",
    "            half_spacing = spacing // 2\n",
    "            \n",
    "            # Xác định khoảng lấy mẫu\n",
    "            start_idx = max(0, center_idx - half_spacing)\n",
    "            end_idx = min(len(list_frames) - 1, center_idx + half_spacing)\n",
    "            \n",
    "            # Giới hạn số lượng indices tối đa theo x\n",
    "            actual_spacing = min(spacing, self.num_frames, len(list_frames))\n",
    "            \n",
    "            indices = numpy.linspace(start_idx, end_idx, actual_spacing)\n",
    "            indices = numpy.clip(indices, 0, len(list_frames) - 1).astype(numpy.int64)\n",
    "        elif method == \"from_bottom\":\n",
    "            print('''\n",
    "                This method has not been supported in this version.\n",
    "                Please use from_middle/from_top instead  \n",
    "                ''')\n",
    "            pass\n",
    "        frames_list = []  \n",
    "        for i, j in enumerate(list_frames):\n",
    "            if i in indices:\n",
    "                frames_list.append(j)\n",
    "        \n",
    "        frames_list = [Image.open(img).convert('RGB') for img in frames_list]\n",
    "        \n",
    "        return frames_list\n",
    "     \n",
    "    def prepare_inputs(self, video: str, method: str, spacing: int):\n",
    "        game = self.sample_frames_indices(video, method, spacing)\n",
    "        image_processor = AutoImageProcessor.from_pretrained(\n",
    "            self.image_extractor,\n",
    "            use_fast = True\n",
    "        )\n",
    "        inputs = image_processor(list(game), return_tensors=\"pt\").to(self.device)\n",
    "        return inputs\n",
    "    \n",
    "    def run(self,\n",
    "            method: str,\n",
    "            spacing: int,\n",
    "            threshold = None):\n",
    "        if threshold is None:\n",
    "            threshold = torch.tensor([0.3312, 0.500, 0.3839, 0.4127, 0.5500, 0.700, 0.700, 0.90, 0.90,\n",
    "                                    0.5680, 0.75, 0.5678, 0.41, 0.4128, 0.65, 0.4128, 0.2411]).to(self.device)\n",
    "        \n",
    "        video_list = self.listgame()\n",
    "        self.initial_model.eval()\n",
    "        prediction_games = []\n",
    "        for video in tqdm(video_list):\n",
    "            game_name = self.game_name.split(\"/\")[-1]\n",
    "            chunk_id = int(video.split(\"/\")[-2].replace(\"chunk_\", \"\"))\n",
    "            # list video path\n",
    "            # example : game_a/chunk_1/frames , game_a/chunk_2/frames, game_a/chunk_3/framesframes\n",
    "            inputs = self.prepare_inputs(video, method, spacing)\n",
    "            with torch.no_grad():\n",
    "                outputs = self.initial_model.backbone(**inputs)\n",
    "                logits = self.initial_model.classifier(outputs[0][:, 0])\n",
    "                probabilities = torch.sigmoid(logits)\n",
    "                predictions = (probabilities >= threshold).int() \n",
    "                predictions = self.id_to_label(self.binary_to_id(predictions))\n",
    "                prediction_games.append(predictions)\n",
    "\n",
    "            with open(f\"{game_name}_prediction.jsonl\", \"a\") as f:\n",
    "                json.dump({\"game_name\": game_name, \"chunk_id\": chunk_id, \"predictions\": predictions, \"pred2prob\": probabilities.tolist()}, f)\n",
    "                f.write(\"\\n\")\n",
    "        \n",
    "        del self.initial_model \n",
    "        \n",
    "        return f\"{game_name}_prediction.jsonl\""
   ]
  },
  {
   "cell_type": "code",
   "execution_count": 13,
   "metadata": {},
   "outputs": [
    {
     "name": "stderr",
     "output_type": "stream",
     "text": [
      "Some weights of TimesformerModel were not initialized from the model checkpoint at fcakyon/timesformer-large-finetuned-k400 and are newly initialized because the shapes did not match:\n",
      "- timesformer.embeddings.time_embeddings: found shape torch.Size([1, 96, 768]) in the checkpoint and torch.Size([1, 30, 768]) in the model instantiated\n",
      "You should probably TRAIN this model on a down-stream task to be able to use it for predictions and inference.\n",
      "100%|██████████| 91/91 [00:55<00:00,  1.63it/s]\n"
     ]
    }
   ],
   "source": [
    "inferencing =TimeSformerInferencing(\n",
    "    num_frames= 30,\n",
    "    num_classes = 17,\n",
    "    game_name = 'F:/video_classification/2015-11-07 - 18-00 Manchester United 2 - 0 West Brom',\n",
    "    image_extractor=\"fcakyon/timesformer-large-finetuned-k400\",\n",
    "    checkpoint = './ds_tv360_model_timesformer_nepochs_2_nframes_30.pth')\n",
    "\n",
    "results = inferencing.run(method='from_middle', spacing = 30)"
   ]
  },
  {
   "cell_type": "code",
   "execution_count": 109,
   "metadata": {},
   "outputs": [],
   "source": [
    "import json\n",
    "with open(\"D:\\\\projects\\\\v2v\\\\v5\\\\2015-11-07 - 18-00 Manchester United 2 - 0 West Brom_prediction.jsonl\", encoding = 'utf-8') as f:\n",
    "    data = [json.loads(line) for line in f]\n",
    "    "
   ]
  },
  {
   "cell_type": "code",
   "execution_count": 110,
   "metadata": {},
   "outputs": [],
   "source": [
    "\n",
    "probs = []\n",
    "for item in data:\n",
    "    probs.append(item['pred2prob'][0][0])\n",
    "\n",
    "idxs = []\n",
    "for i in range(len(probs)):\n",
    "    idxs.append(i)"
   ]
  },
  {
   "cell_type": "code",
   "execution_count": 111,
   "metadata": {},
   "outputs": [
    {
     "data": {
      "text/plain": [
       "[<matplotlib.lines.Line2D at 0x28bd0849b80>]"
      ]
     },
     "execution_count": 111,
     "metadata": {},
     "output_type": "execute_result"
    },
    {
     "data": {
      "image/png": "[encoded data removed]",
      "text/plain": [
       "<Figure size 1200x800 with 1 Axes>"
      ]
     },
     "metadata": {},
     "output_type": "display_data"
    }
   ],
   "source": [
    "import matplotlib.pyplot as plt\n",
    "\n",
    "probs = []\n",
    "prob2 = []\n",
    "prob3 = []\n",
    "prob4 = []\n",
    "for item in data:\n",
    "    probs.append(item['pred2prob'][0][9])\n",
    "    prob2.append(item['pred2prob'][0][7])\n",
    "    # prob3.append(item['pred2prob'][0][7])\n",
    "    # prob4.append(item['pred2prob'][0][8])\n",
    "    \n",
    "\n",
    "idxs = []\n",
    "for i in range(len(probs)):\n",
    "    idxs.append(i)\n",
    "plt.figure(figsize=(12, 8))\n",
    "plt.plot(idxs, probs, label=\"Class 0\", marker=\"o\", linestyle=\"-\", color=\"blue\")\n",
    "plt.plot(idxs, prob2, label=\"Class 2\", marker=\"s\", linestyle=\"--\", color=\"red\")\n",
    "# plt.plot(idxs, prob3, label=\"Class 10\", marker=\"d\", linestyle=\"-.\", color=\"green\")\n",
    "# plt.plot(idxs, prob4, label=\"Class 1s\", marker=\"d\", linestyle=\"-.\", color=\"black\")\n",
    "\n"
   ]
  },
  {
   "cell_type": "code",
   "execution_count": 114,
   "metadata": {},
   "outputs": [
    {
     "name": "stdout",
     "output_type": "stream",
     "text": [
      "Mean (Trung bình): 0.5155\n",
      "Mode (Giá trị xuất hiện nhiều nhất): ModeResult(mode=np.float64(0.44746458530426025), count=np.int64(1))\n",
      "Median (Phân vị 50%): 0.5113\n",
      "25th Percentile: 0.5000\n",
      "75th Percentile: 0.5425\n",
      "0.5792522430419922\n"
     ]
    }
   ],
   "source": [
    "import numpy as np\n",
    "from scipy import stats\n",
    "\n",
    "# Giả sử đây là danh sách xác suất của một class (có thể thay bằng prob1, prob2, prob3)\n",
    "probabilities = prob2\n",
    "\n",
    "# Tính các giá trị thống kê\n",
    "mean_value = np.mean(probabilities)  # Giá trị trung bình\n",
    "mode_value = stats.mode(probabilities) # Giá trị mode\n",
    "median_value = np.percentile(probabilities, 50)  # Mức phân vị 50% (median)\n",
    "percentile_25 = np.percentile(probabilities, 25)  # Mức phân vị 25%\n",
    "percentile_75 = np.percentile(probabilities, 90)  # Mức phân vị 75%\n",
    "\n",
    "# In kết quả\n",
    "print(f\"Mean (Trung bình): {mean_value:.4f}\")\n",
    "print(f\"Mode (Giá trị xuất hiện nhiều nhất): {mode_value}\")\n",
    "print(f\"Median (Phân vị 50%): {median_value:.4f}\")\n",
    "print(f\"25th Percentile: {percentile_25:.4f}\")\n",
    "print(f\"75th Percentile: {percentile_75:.4f}\")\n",
    "print(f\"{np.percentile(probabilities, 100)}\")\n"
   ]
  },
  {
   "cell_type": "code",
   "execution_count": null,
   "metadata": {},
   "outputs": [],
   "source": []
  },
  {
   "cell_type": "code",
   "execution_count": null,
   "metadata": {},
   "outputs": [],
   "source": []
  },
  {
   "cell_type": "code",
   "execution_count": null,
   "metadata": {},
   "outputs": [],
   "source": []
  },
  {
   "cell_type": "code",
   "execution_count": null,
   "metadata": {},
   "outputs": [],
   "source": []
  },
  {
   "cell_type": "code",
   "execution_count": 64,
   "metadata": {},
   "outputs": [
    {
     "data": {
      "text/plain": [
       "[0.35415831208229065,\n",
       " 0.3119780421257019,\n",
       " 0.2892568111419678,\n",
       " 0.2844412326812744,\n",
       " 0.3136094808578491,\n",
       " 0.31045815348625183,\n",
       " 0.294851690530777,\n",
       " 0.2767133414745331,\n",
       " 0.2881782054901123,\n",
       " 0.2850722074508667,\n",
       " 0.27740031480789185,\n",
       " 0.2732817828655243,\n",
       " 0.3305553197860718,\n",
       " 0.3084353804588318,\n",
       " 0.2891785502433777,\n",
       " 0.28582441806793213,\n",
       " 0.31458398699760437,\n",
       " 0.28324514627456665,\n",
       " 0.31967729330062866,\n",
       " 0.3052866458892822,\n",
       " 0.30058836936950684,\n",
       " 0.29683130979537964,\n",
       " 0.3101184666156769,\n",
       " 0.27858251333236694,\n",
       " 0.3618680536746979,\n",
       " 0.28869304060935974,\n",
       " 0.32248952984809875,\n",
       " 0.27640002965927124,\n",
       " 0.30720314383506775,\n",
       " 0.36707910895347595,\n",
       " 0.28888946771621704,\n",
       " 0.27795830368995667,\n",
       " 0.38610249757766724,\n",
       " 0.316300630569458,\n",
       " 0.33897924423217773,\n",
       " 0.3312044143676758,\n",
       " 0.28720733523368835,\n",
       " 0.28595513105392456,\n",
       " 0.28182387351989746,\n",
       " 0.2867228388786316,\n",
       " 0.30231186747550964,\n",
       " 0.3157203197479248,\n",
       " 0.31835857033729553,\n",
       " 0.29497578740119934,\n",
       " 0.2819024324417114,\n",
       " 0.2838253974914551,\n",
       " 0.3196646571159363,\n",
       " 0.2811279892921448,\n",
       " 0.2955782115459442,\n",
       " 0.3465467095375061,\n",
       " 0.2845313251018524,\n",
       " 0.3977641761302948,\n",
       " 0.3721431493759155,\n",
       " 0.30057233572006226,\n",
       " 0.32712432742118835,\n",
       " 0.3046762943267822,\n",
       " 0.2845509350299835,\n",
       " 0.3087853789329529,\n",
       " 0.3369264602661133,\n",
       " 0.3311455547809601,\n",
       " 0.33864322304725647,\n",
       " 0.31804171204566956,\n",
       " 0.2839975655078888,\n",
       " 0.2930130064487457,\n",
       " 0.33049145340919495,\n",
       " 0.2805324196815491,\n",
       " 0.2797980010509491,\n",
       " 0.2865234911441803,\n",
       " 0.2804340720176697,\n",
       " 0.29773610830307007,\n",
       " 0.4157293140888214,\n",
       " 0.3119226396083832,\n",
       " 0.2964079976081848,\n",
       " 0.3509518504142761,\n",
       " 0.297955185174942,\n",
       " 0.3744070529937744,\n",
       " 0.29628416895866394,\n",
       " 0.2778177559375763,\n",
       " 0.35198351740837097,\n",
       " 0.27671077847480774,\n",
       " 0.3808932900428772,\n",
       " 0.29654285311698914,\n",
       " 0.31908077001571655,\n",
       " 0.3354293704032898,\n",
       " 0.3076057732105255,\n",
       " 0.32935529947280884,\n",
       " 0.280124306678772,\n",
       " 0.2994228005409241,\n",
       " 0.2958339750766754,\n",
       " 0.3809225559234619,\n",
       " 0.41659945249557495]"
      ]
     },
     "execution_count": 64,
     "metadata": {},
     "output_type": "execute_result"
    }
   ],
   "source": [
    "probs"
   ]
  }
 ],
 "metadata": {
  "kernelspec": {
   "display_name": "Python 3",
   "language": "python",
   "name": "python3"
  },
  "language_info": {
   "codemirror_mode": {
    "name": "ipython",
    "version": 3
   },
   "file_extension": ".py",
   "mimetype": "text/x-python",
   "name": "python",
   "nbconvert_exporter": "python",
   "pygments_lexer": "ipython3",
   "version": "3.12.8"
  }
 },
 "nbformat": 4,
 "nbformat_minor": 2
}
